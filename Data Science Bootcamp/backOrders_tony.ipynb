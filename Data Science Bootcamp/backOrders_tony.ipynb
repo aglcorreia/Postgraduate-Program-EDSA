{
 "cells": [
  {
   "cell_type": "code",
   "execution_count": 3,
   "metadata": {},
   "outputs": [],
   "source": [
    "import pandas as pd\n",
    "import os\n",
    "import time\n",
    "import seaborn as sns\n",
    "import matplotlib.pyplot as plt\n",
    "import numpy as np\n",
    "from sklearn import preprocessing\n",
    "from sklearn.metrics import roc_auc_score\n",
    "from sklearn.metrics import confusion_matrix\n",
    "from sklearn.metrics import classification_report\n",
    "from sklearn.ensemble import RandomForestClassifier\n",
    "from sklearn.model_selection import train_test_split\n",
    "from imblearn.over_sampling import SMOTE\n",
    "\n",
    "os.chdir('C:\\\\Users\\\\Antonio\\\\OneDrive - Instituto Superior de Estatística e Gestão de Informação\\\\Bootcamp\\\\Back orders\\\\data')"
   ]
  },
  {
   "cell_type": "markdown",
   "metadata": {},
   "source": [
    "# Read in data and look at the dataframe"
   ]
  },
  {
   "cell_type": "code",
   "execution_count": 4,
   "metadata": {},
   "outputs": [
    {
     "name": "stdout",
     "output_type": "stream",
     "text": [
      "Wall time: 9.53 s\n"
     ]
    }
   ],
   "source": [
    "%time train = pd.read_csv('Training_Dataset_v2.csv', low_memory=False)"
   ]
  },
  {
   "cell_type": "code",
   "execution_count": 49,
   "metadata": {},
   "outputs": [
    {
     "name": "stdout",
     "output_type": "stream",
     "text": [
      "Wall time: 221 ms\n"
     ]
    },
    {
     "data": {
      "text/html": [
       "<div>\n",
       "<style scoped>\n",
       "    .dataframe tbody tr th:only-of-type {\n",
       "        vertical-align: middle;\n",
       "    }\n",
       "\n",
       "    .dataframe tbody tr th {\n",
       "        vertical-align: top;\n",
       "    }\n",
       "\n",
       "    .dataframe thead th {\n",
       "        text-align: right;\n",
       "    }\n",
       "</style>\n",
       "<table border=\"1\" class=\"dataframe\">\n",
       "  <thead>\n",
       "    <tr style=\"text-align: right;\">\n",
       "      <th></th>\n",
       "      <th>sku</th>\n",
       "      <th>national_inv</th>\n",
       "      <th>lead_time</th>\n",
       "      <th>in_transit_qty</th>\n",
       "      <th>forecast_3_month</th>\n",
       "      <th>forecast_6_month</th>\n",
       "      <th>forecast_9_month</th>\n",
       "      <th>sales_1_month</th>\n",
       "      <th>sales_3_month</th>\n",
       "      <th>sales_6_month</th>\n",
       "      <th>...</th>\n",
       "      <th>pieces_past_due</th>\n",
       "      <th>perf_6_month_avg</th>\n",
       "      <th>perf_12_month_avg</th>\n",
       "      <th>local_bo_qty</th>\n",
       "      <th>deck_risk</th>\n",
       "      <th>oe_constraint</th>\n",
       "      <th>ppap_risk</th>\n",
       "      <th>stop_auto_buy</th>\n",
       "      <th>rev_stop</th>\n",
       "      <th>went_on_backorder</th>\n",
       "    </tr>\n",
       "  </thead>\n",
       "  <tbody>\n",
       "    <tr>\n",
       "      <th>1617983</th>\n",
       "      <td>3214927</td>\n",
       "      <td>92.0</td>\n",
       "      <td>8.0</td>\n",
       "      <td>40.0</td>\n",
       "      <td>120.0</td>\n",
       "      <td>240.0</td>\n",
       "      <td>360.0</td>\n",
       "      <td>70.0</td>\n",
       "      <td>200.0</td>\n",
       "      <td>373.0</td>\n",
       "      <td>...</td>\n",
       "      <td>0.0</td>\n",
       "      <td>0.98</td>\n",
       "      <td>0.97</td>\n",
       "      <td>0.0</td>\n",
       "      <td>No</td>\n",
       "      <td>No</td>\n",
       "      <td>No</td>\n",
       "      <td>Yes</td>\n",
       "      <td>No</td>\n",
       "      <td>No</td>\n",
       "    </tr>\n",
       "    <tr>\n",
       "      <th>1025986</th>\n",
       "      <td>1383521</td>\n",
       "      <td>10.0</td>\n",
       "      <td>12.0</td>\n",
       "      <td>0.0</td>\n",
       "      <td>5.0</td>\n",
       "      <td>5.0</td>\n",
       "      <td>5.0</td>\n",
       "      <td>0.0</td>\n",
       "      <td>0.0</td>\n",
       "      <td>0.0</td>\n",
       "      <td>...</td>\n",
       "      <td>0.0</td>\n",
       "      <td>0.58</td>\n",
       "      <td>0.58</td>\n",
       "      <td>0.0</td>\n",
       "      <td>Yes</td>\n",
       "      <td>No</td>\n",
       "      <td>No</td>\n",
       "      <td>Yes</td>\n",
       "      <td>No</td>\n",
       "      <td>No</td>\n",
       "    </tr>\n",
       "    <tr>\n",
       "      <th>1073054</th>\n",
       "      <td>1434015</td>\n",
       "      <td>5.0</td>\n",
       "      <td>8.0</td>\n",
       "      <td>0.0</td>\n",
       "      <td>0.0</td>\n",
       "      <td>0.0</td>\n",
       "      <td>0.0</td>\n",
       "      <td>0.0</td>\n",
       "      <td>0.0</td>\n",
       "      <td>1.0</td>\n",
       "      <td>...</td>\n",
       "      <td>0.0</td>\n",
       "      <td>0.37</td>\n",
       "      <td>0.38</td>\n",
       "      <td>0.0</td>\n",
       "      <td>No</td>\n",
       "      <td>No</td>\n",
       "      <td>No</td>\n",
       "      <td>Yes</td>\n",
       "      <td>No</td>\n",
       "      <td>No</td>\n",
       "    </tr>\n",
       "    <tr>\n",
       "      <th>390352</th>\n",
       "      <td>1738314</td>\n",
       "      <td>2.0</td>\n",
       "      <td>9.0</td>\n",
       "      <td>0.0</td>\n",
       "      <td>0.0</td>\n",
       "      <td>0.0</td>\n",
       "      <td>0.0</td>\n",
       "      <td>0.0</td>\n",
       "      <td>0.0</td>\n",
       "      <td>0.0</td>\n",
       "      <td>...</td>\n",
       "      <td>0.0</td>\n",
       "      <td>0.68</td>\n",
       "      <td>0.66</td>\n",
       "      <td>0.0</td>\n",
       "      <td>No</td>\n",
       "      <td>No</td>\n",
       "      <td>No</td>\n",
       "      <td>Yes</td>\n",
       "      <td>No</td>\n",
       "      <td>No</td>\n",
       "    </tr>\n",
       "    <tr>\n",
       "      <th>1343165</th>\n",
       "      <td>2928912</td>\n",
       "      <td>312.0</td>\n",
       "      <td>8.0</td>\n",
       "      <td>0.0</td>\n",
       "      <td>0.0</td>\n",
       "      <td>0.0</td>\n",
       "      <td>0.0</td>\n",
       "      <td>2.0</td>\n",
       "      <td>5.0</td>\n",
       "      <td>15.0</td>\n",
       "      <td>...</td>\n",
       "      <td>0.0</td>\n",
       "      <td>0.96</td>\n",
       "      <td>0.81</td>\n",
       "      <td>0.0</td>\n",
       "      <td>Yes</td>\n",
       "      <td>No</td>\n",
       "      <td>Yes</td>\n",
       "      <td>Yes</td>\n",
       "      <td>No</td>\n",
       "      <td>No</td>\n",
       "    </tr>\n",
       "    <tr>\n",
       "      <th>126696</th>\n",
       "      <td>1238214</td>\n",
       "      <td>0.0</td>\n",
       "      <td>8.0</td>\n",
       "      <td>0.0</td>\n",
       "      <td>0.0</td>\n",
       "      <td>0.0</td>\n",
       "      <td>0.0</td>\n",
       "      <td>0.0</td>\n",
       "      <td>0.0</td>\n",
       "      <td>0.0</td>\n",
       "      <td>...</td>\n",
       "      <td>0.0</td>\n",
       "      <td>0.93</td>\n",
       "      <td>0.97</td>\n",
       "      <td>0.0</td>\n",
       "      <td>Yes</td>\n",
       "      <td>No</td>\n",
       "      <td>No</td>\n",
       "      <td>Yes</td>\n",
       "      <td>No</td>\n",
       "      <td>No</td>\n",
       "    </tr>\n",
       "    <tr>\n",
       "      <th>62548</th>\n",
       "      <td>1174043</td>\n",
       "      <td>0.0</td>\n",
       "      <td>NaN</td>\n",
       "      <td>0.0</td>\n",
       "      <td>0.0</td>\n",
       "      <td>0.0</td>\n",
       "      <td>0.0</td>\n",
       "      <td>0.0</td>\n",
       "      <td>0.0</td>\n",
       "      <td>0.0</td>\n",
       "      <td>...</td>\n",
       "      <td>0.0</td>\n",
       "      <td>-99.00</td>\n",
       "      <td>-99.00</td>\n",
       "      <td>0.0</td>\n",
       "      <td>No</td>\n",
       "      <td>No</td>\n",
       "      <td>No</td>\n",
       "      <td>Yes</td>\n",
       "      <td>No</td>\n",
       "      <td>No</td>\n",
       "    </tr>\n",
       "    <tr>\n",
       "      <th>1244478</th>\n",
       "      <td>2826227</td>\n",
       "      <td>11.0</td>\n",
       "      <td>8.0</td>\n",
       "      <td>0.0</td>\n",
       "      <td>0.0</td>\n",
       "      <td>0.0</td>\n",
       "      <td>0.0</td>\n",
       "      <td>0.0</td>\n",
       "      <td>0.0</td>\n",
       "      <td>0.0</td>\n",
       "      <td>...</td>\n",
       "      <td>0.0</td>\n",
       "      <td>1.00</td>\n",
       "      <td>0.92</td>\n",
       "      <td>0.0</td>\n",
       "      <td>No</td>\n",
       "      <td>No</td>\n",
       "      <td>No</td>\n",
       "      <td>Yes</td>\n",
       "      <td>No</td>\n",
       "      <td>No</td>\n",
       "    </tr>\n",
       "    <tr>\n",
       "      <th>1126796</th>\n",
       "      <td>1491562</td>\n",
       "      <td>10.0</td>\n",
       "      <td>8.0</td>\n",
       "      <td>0.0</td>\n",
       "      <td>0.0</td>\n",
       "      <td>0.0</td>\n",
       "      <td>0.0</td>\n",
       "      <td>0.0</td>\n",
       "      <td>0.0</td>\n",
       "      <td>0.0</td>\n",
       "      <td>...</td>\n",
       "      <td>0.0</td>\n",
       "      <td>0.42</td>\n",
       "      <td>0.36</td>\n",
       "      <td>0.0</td>\n",
       "      <td>No</td>\n",
       "      <td>No</td>\n",
       "      <td>No</td>\n",
       "      <td>Yes</td>\n",
       "      <td>No</td>\n",
       "      <td>No</td>\n",
       "    </tr>\n",
       "    <tr>\n",
       "      <th>386964</th>\n",
       "      <td>1734925</td>\n",
       "      <td>7.0</td>\n",
       "      <td>4.0</td>\n",
       "      <td>0.0</td>\n",
       "      <td>0.0</td>\n",
       "      <td>0.0</td>\n",
       "      <td>0.0</td>\n",
       "      <td>0.0</td>\n",
       "      <td>0.0</td>\n",
       "      <td>0.0</td>\n",
       "      <td>...</td>\n",
       "      <td>0.0</td>\n",
       "      <td>0.73</td>\n",
       "      <td>0.78</td>\n",
       "      <td>0.0</td>\n",
       "      <td>Yes</td>\n",
       "      <td>No</td>\n",
       "      <td>No</td>\n",
       "      <td>Yes</td>\n",
       "      <td>No</td>\n",
       "      <td>No</td>\n",
       "    </tr>\n",
       "  </tbody>\n",
       "</table>\n",
       "<p>10 rows × 23 columns</p>\n",
       "</div>"
      ],
      "text/plain": [
       "             sku  national_inv  lead_time  in_transit_qty  forecast_3_month  \\\n",
       "1617983  3214927          92.0        8.0            40.0             120.0   \n",
       "1025986  1383521          10.0       12.0             0.0               5.0   \n",
       "1073054  1434015           5.0        8.0             0.0               0.0   \n",
       "390352   1738314           2.0        9.0             0.0               0.0   \n",
       "1343165  2928912         312.0        8.0             0.0               0.0   \n",
       "126696   1238214           0.0        8.0             0.0               0.0   \n",
       "62548    1174043           0.0        NaN             0.0               0.0   \n",
       "1244478  2826227          11.0        8.0             0.0               0.0   \n",
       "1126796  1491562          10.0        8.0             0.0               0.0   \n",
       "386964   1734925           7.0        4.0             0.0               0.0   \n",
       "\n",
       "         forecast_6_month  forecast_9_month  sales_1_month  sales_3_month  \\\n",
       "1617983             240.0             360.0           70.0          200.0   \n",
       "1025986               5.0               5.0            0.0            0.0   \n",
       "1073054               0.0               0.0            0.0            0.0   \n",
       "390352                0.0               0.0            0.0            0.0   \n",
       "1343165               0.0               0.0            2.0            5.0   \n",
       "126696                0.0               0.0            0.0            0.0   \n",
       "62548                 0.0               0.0            0.0            0.0   \n",
       "1244478               0.0               0.0            0.0            0.0   \n",
       "1126796               0.0               0.0            0.0            0.0   \n",
       "386964                0.0               0.0            0.0            0.0   \n",
       "\n",
       "         sales_6_month        ...         pieces_past_due  perf_6_month_avg  \\\n",
       "1617983          373.0        ...                     0.0              0.98   \n",
       "1025986            0.0        ...                     0.0              0.58   \n",
       "1073054            1.0        ...                     0.0              0.37   \n",
       "390352             0.0        ...                     0.0              0.68   \n",
       "1343165           15.0        ...                     0.0              0.96   \n",
       "126696             0.0        ...                     0.0              0.93   \n",
       "62548              0.0        ...                     0.0            -99.00   \n",
       "1244478            0.0        ...                     0.0              1.00   \n",
       "1126796            0.0        ...                     0.0              0.42   \n",
       "386964             0.0        ...                     0.0              0.73   \n",
       "\n",
       "        perf_12_month_avg  local_bo_qty  deck_risk  oe_constraint  ppap_risk  \\\n",
       "1617983              0.97           0.0         No             No         No   \n",
       "1025986              0.58           0.0        Yes             No         No   \n",
       "1073054              0.38           0.0         No             No         No   \n",
       "390352               0.66           0.0         No             No         No   \n",
       "1343165              0.81           0.0        Yes             No        Yes   \n",
       "126696               0.97           0.0        Yes             No         No   \n",
       "62548              -99.00           0.0         No             No         No   \n",
       "1244478              0.92           0.0         No             No         No   \n",
       "1126796              0.36           0.0         No             No         No   \n",
       "386964               0.78           0.0        Yes             No         No   \n",
       "\n",
       "        stop_auto_buy rev_stop went_on_backorder  \n",
       "1617983           Yes       No                No  \n",
       "1025986           Yes       No                No  \n",
       "1073054           Yes       No                No  \n",
       "390352            Yes       No                No  \n",
       "1343165           Yes       No                No  \n",
       "126696            Yes       No                No  \n",
       "62548             Yes       No                No  \n",
       "1244478           Yes       No                No  \n",
       "1126796           Yes       No                No  \n",
       "386964            Yes       No                No  \n",
       "\n",
       "[10 rows x 23 columns]"
      ]
     },
     "execution_count": 49,
     "metadata": {},
     "output_type": "execute_result"
    }
   ],
   "source": [
    "%time train.sample(10)"
   ]
  },
  {
   "cell_type": "code",
   "execution_count": 50,
   "metadata": {},
   "outputs": [
    {
     "data": {
      "text/plain": [
       "sku                   object\n",
       "national_inv         float64\n",
       "lead_time            float64\n",
       "in_transit_qty       float64\n",
       "forecast_3_month     float64\n",
       "forecast_6_month     float64\n",
       "forecast_9_month     float64\n",
       "sales_1_month        float64\n",
       "sales_3_month        float64\n",
       "sales_6_month        float64\n",
       "sales_9_month        float64\n",
       "min_bank             float64\n",
       "potential_issue       object\n",
       "pieces_past_due      float64\n",
       "perf_6_month_avg     float64\n",
       "perf_12_month_avg    float64\n",
       "local_bo_qty         float64\n",
       "deck_risk             object\n",
       "oe_constraint         object\n",
       "ppap_risk             object\n",
       "stop_auto_buy         object\n",
       "rev_stop              object\n",
       "went_on_backorder     object\n",
       "dtype: object"
      ]
     },
     "execution_count": 50,
     "metadata": {},
     "output_type": "execute_result"
    }
   ],
   "source": [
    "train.dtypes"
   ]
  },
  {
   "cell_type": "code",
   "execution_count": 51,
   "metadata": {},
   "outputs": [
    {
     "data": {
      "text/html": [
       "<div>\n",
       "<style scoped>\n",
       "    .dataframe tbody tr th:only-of-type {\n",
       "        vertical-align: middle;\n",
       "    }\n",
       "\n",
       "    .dataframe tbody tr th {\n",
       "        vertical-align: top;\n",
       "    }\n",
       "\n",
       "    .dataframe thead th {\n",
       "        text-align: right;\n",
       "    }\n",
       "</style>\n",
       "<table border=\"1\" class=\"dataframe\">\n",
       "  <thead>\n",
       "    <tr style=\"text-align: right;\">\n",
       "      <th></th>\n",
       "      <th>count</th>\n",
       "      <th>mean</th>\n",
       "      <th>std</th>\n",
       "      <th>min</th>\n",
       "      <th>25%</th>\n",
       "      <th>50%</th>\n",
       "      <th>75%</th>\n",
       "      <th>max</th>\n",
       "    </tr>\n",
       "  </thead>\n",
       "  <tbody>\n",
       "    <tr>\n",
       "      <th>national_inv</th>\n",
       "      <td>1687860.0</td>\n",
       "      <td>496.111782</td>\n",
       "      <td>29615.233831</td>\n",
       "      <td>-27256.0</td>\n",
       "      <td>4.00</td>\n",
       "      <td>15.00</td>\n",
       "      <td>80.00</td>\n",
       "      <td>12334404.0</td>\n",
       "    </tr>\n",
       "    <tr>\n",
       "      <th>lead_time</th>\n",
       "      <td>1586967.0</td>\n",
       "      <td>7.872267</td>\n",
       "      <td>7.056024</td>\n",
       "      <td>0.0</td>\n",
       "      <td>4.00</td>\n",
       "      <td>8.00</td>\n",
       "      <td>9.00</td>\n",
       "      <td>52.0</td>\n",
       "    </tr>\n",
       "    <tr>\n",
       "      <th>in_transit_qty</th>\n",
       "      <td>1687860.0</td>\n",
       "      <td>44.052022</td>\n",
       "      <td>1342.741731</td>\n",
       "      <td>0.0</td>\n",
       "      <td>0.00</td>\n",
       "      <td>0.00</td>\n",
       "      <td>0.00</td>\n",
       "      <td>489408.0</td>\n",
       "    </tr>\n",
       "    <tr>\n",
       "      <th>forecast_3_month</th>\n",
       "      <td>1687860.0</td>\n",
       "      <td>178.119284</td>\n",
       "      <td>5026.553102</td>\n",
       "      <td>0.0</td>\n",
       "      <td>0.00</td>\n",
       "      <td>0.00</td>\n",
       "      <td>4.00</td>\n",
       "      <td>1427612.0</td>\n",
       "    </tr>\n",
       "    <tr>\n",
       "      <th>forecast_6_month</th>\n",
       "      <td>1687860.0</td>\n",
       "      <td>344.986664</td>\n",
       "      <td>9795.151861</td>\n",
       "      <td>0.0</td>\n",
       "      <td>0.00</td>\n",
       "      <td>0.00</td>\n",
       "      <td>12.00</td>\n",
       "      <td>2461360.0</td>\n",
       "    </tr>\n",
       "    <tr>\n",
       "      <th>forecast_9_month</th>\n",
       "      <td>1687860.0</td>\n",
       "      <td>506.364431</td>\n",
       "      <td>14378.923562</td>\n",
       "      <td>0.0</td>\n",
       "      <td>0.00</td>\n",
       "      <td>0.00</td>\n",
       "      <td>20.00</td>\n",
       "      <td>3777304.0</td>\n",
       "    </tr>\n",
       "    <tr>\n",
       "      <th>sales_1_month</th>\n",
       "      <td>1687860.0</td>\n",
       "      <td>55.926069</td>\n",
       "      <td>1928.195879</td>\n",
       "      <td>0.0</td>\n",
       "      <td>0.00</td>\n",
       "      <td>0.00</td>\n",
       "      <td>4.00</td>\n",
       "      <td>741774.0</td>\n",
       "    </tr>\n",
       "    <tr>\n",
       "      <th>sales_3_month</th>\n",
       "      <td>1687860.0</td>\n",
       "      <td>175.025930</td>\n",
       "      <td>5192.377625</td>\n",
       "      <td>0.0</td>\n",
       "      <td>0.00</td>\n",
       "      <td>1.00</td>\n",
       "      <td>15.00</td>\n",
       "      <td>1105478.0</td>\n",
       "    </tr>\n",
       "    <tr>\n",
       "      <th>sales_6_month</th>\n",
       "      <td>1687860.0</td>\n",
       "      <td>341.728839</td>\n",
       "      <td>9613.167104</td>\n",
       "      <td>0.0</td>\n",
       "      <td>0.00</td>\n",
       "      <td>2.00</td>\n",
       "      <td>31.00</td>\n",
       "      <td>2146625.0</td>\n",
       "    </tr>\n",
       "    <tr>\n",
       "      <th>sales_9_month</th>\n",
       "      <td>1687860.0</td>\n",
       "      <td>525.269701</td>\n",
       "      <td>14838.613523</td>\n",
       "      <td>0.0</td>\n",
       "      <td>0.00</td>\n",
       "      <td>4.00</td>\n",
       "      <td>47.00</td>\n",
       "      <td>3205172.0</td>\n",
       "    </tr>\n",
       "    <tr>\n",
       "      <th>min_bank</th>\n",
       "      <td>1687860.0</td>\n",
       "      <td>52.772303</td>\n",
       "      <td>1254.983089</td>\n",
       "      <td>0.0</td>\n",
       "      <td>0.00</td>\n",
       "      <td>0.00</td>\n",
       "      <td>3.00</td>\n",
       "      <td>313319.0</td>\n",
       "    </tr>\n",
       "    <tr>\n",
       "      <th>pieces_past_due</th>\n",
       "      <td>1687860.0</td>\n",
       "      <td>2.043724</td>\n",
       "      <td>236.016500</td>\n",
       "      <td>0.0</td>\n",
       "      <td>0.00</td>\n",
       "      <td>0.00</td>\n",
       "      <td>0.00</td>\n",
       "      <td>146496.0</td>\n",
       "    </tr>\n",
       "    <tr>\n",
       "      <th>perf_6_month_avg</th>\n",
       "      <td>1687860.0</td>\n",
       "      <td>-6.872059</td>\n",
       "      <td>26.556357</td>\n",
       "      <td>-99.0</td>\n",
       "      <td>0.63</td>\n",
       "      <td>0.82</td>\n",
       "      <td>0.97</td>\n",
       "      <td>1.0</td>\n",
       "    </tr>\n",
       "    <tr>\n",
       "      <th>perf_12_month_avg</th>\n",
       "      <td>1687860.0</td>\n",
       "      <td>-6.437947</td>\n",
       "      <td>25.843331</td>\n",
       "      <td>-99.0</td>\n",
       "      <td>0.66</td>\n",
       "      <td>0.81</td>\n",
       "      <td>0.95</td>\n",
       "      <td>1.0</td>\n",
       "    </tr>\n",
       "    <tr>\n",
       "      <th>local_bo_qty</th>\n",
       "      <td>1687860.0</td>\n",
       "      <td>0.626451</td>\n",
       "      <td>33.722242</td>\n",
       "      <td>0.0</td>\n",
       "      <td>0.00</td>\n",
       "      <td>0.00</td>\n",
       "      <td>0.00</td>\n",
       "      <td>12530.0</td>\n",
       "    </tr>\n",
       "  </tbody>\n",
       "</table>\n",
       "</div>"
      ],
      "text/plain": [
       "                       count        mean           std      min   25%    50%  \\\n",
       "national_inv       1687860.0  496.111782  29615.233831 -27256.0  4.00  15.00   \n",
       "lead_time          1586967.0    7.872267      7.056024      0.0  4.00   8.00   \n",
       "in_transit_qty     1687860.0   44.052022   1342.741731      0.0  0.00   0.00   \n",
       "forecast_3_month   1687860.0  178.119284   5026.553102      0.0  0.00   0.00   \n",
       "forecast_6_month   1687860.0  344.986664   9795.151861      0.0  0.00   0.00   \n",
       "forecast_9_month   1687860.0  506.364431  14378.923562      0.0  0.00   0.00   \n",
       "sales_1_month      1687860.0   55.926069   1928.195879      0.0  0.00   0.00   \n",
       "sales_3_month      1687860.0  175.025930   5192.377625      0.0  0.00   1.00   \n",
       "sales_6_month      1687860.0  341.728839   9613.167104      0.0  0.00   2.00   \n",
       "sales_9_month      1687860.0  525.269701  14838.613523      0.0  0.00   4.00   \n",
       "min_bank           1687860.0   52.772303   1254.983089      0.0  0.00   0.00   \n",
       "pieces_past_due    1687860.0    2.043724    236.016500      0.0  0.00   0.00   \n",
       "perf_6_month_avg   1687860.0   -6.872059     26.556357    -99.0  0.63   0.82   \n",
       "perf_12_month_avg  1687860.0   -6.437947     25.843331    -99.0  0.66   0.81   \n",
       "local_bo_qty       1687860.0    0.626451     33.722242      0.0  0.00   0.00   \n",
       "\n",
       "                     75%         max  \n",
       "national_inv       80.00  12334404.0  \n",
       "lead_time           9.00        52.0  \n",
       "in_transit_qty      0.00    489408.0  \n",
       "forecast_3_month    4.00   1427612.0  \n",
       "forecast_6_month   12.00   2461360.0  \n",
       "forecast_9_month   20.00   3777304.0  \n",
       "sales_1_month       4.00    741774.0  \n",
       "sales_3_month      15.00   1105478.0  \n",
       "sales_6_month      31.00   2146625.0  \n",
       "sales_9_month      47.00   3205172.0  \n",
       "min_bank            3.00    313319.0  \n",
       "pieces_past_due     0.00    146496.0  \n",
       "perf_6_month_avg    0.97         1.0  \n",
       "perf_12_month_avg   0.95         1.0  \n",
       "local_bo_qty        0.00     12530.0  "
      ]
     },
     "execution_count": 51,
     "metadata": {},
     "output_type": "execute_result"
    }
   ],
   "source": [
    "train.describe().T"
   ]
  },
  {
   "cell_type": "code",
   "execution_count": 52,
   "metadata": {},
   "outputs": [
    {
     "data": {
      "text/plain": [
       "sku                       0\n",
       "national_inv              1\n",
       "lead_time            100894\n",
       "in_transit_qty            1\n",
       "forecast_3_month          1\n",
       "forecast_6_month          1\n",
       "forecast_9_month          1\n",
       "sales_1_month             1\n",
       "sales_3_month             1\n",
       "sales_6_month             1\n",
       "sales_9_month             1\n",
       "min_bank                  1\n",
       "potential_issue           1\n",
       "pieces_past_due           1\n",
       "perf_6_month_avg          1\n",
       "perf_12_month_avg         1\n",
       "local_bo_qty              1\n",
       "deck_risk                 1\n",
       "oe_constraint             1\n",
       "ppap_risk                 1\n",
       "stop_auto_buy             1\n",
       "rev_stop                  1\n",
       "went_on_backorder         1\n",
       "dtype: int64"
      ]
     },
     "execution_count": 52,
     "metadata": {},
     "output_type": "execute_result"
    }
   ],
   "source": [
    "train.isnull().sum()"
   ]
  },
  {
   "cell_type": "markdown",
   "metadata": {},
   "source": [
    " - There's one line with missing values, and we can delete that. Additionally, there are some missing values for `lead_time`, which is consistent with the variable description which states \"if available\". For now, we can assign a large number to missing values of `lead_time`."
   ]
  },
  {
   "cell_type": "markdown",
   "metadata": {},
   "source": [
    "# Let's transform categorical variables, and replace missing values in `lead_time`"
   ]
  },
  {
   "cell_type": "code",
   "execution_count": 5,
   "metadata": {},
   "outputs": [],
   "source": [
    "train=train.dropna(thresh=5) # this will drop any rows with more than 5 missing values in columns"
   ]
  },
  {
   "cell_type": "code",
   "execution_count": 64,
   "metadata": {},
   "outputs": [
    {
     "data": {
      "text/plain": [
       "sku                  0\n",
       "national_inv         0\n",
       "lead_time            0\n",
       "in_transit_qty       0\n",
       "forecast_3_month     0\n",
       "forecast_6_month     0\n",
       "forecast_9_month     0\n",
       "sales_1_month        0\n",
       "sales_3_month        0\n",
       "sales_6_month        0\n",
       "sales_9_month        0\n",
       "min_bank             0\n",
       "potential_issue      0\n",
       "pieces_past_due      0\n",
       "perf_6_month_avg     0\n",
       "perf_12_month_avg    0\n",
       "local_bo_qty         0\n",
       "deck_risk            0\n",
       "oe_constraint        0\n",
       "ppap_risk            0\n",
       "stop_auto_buy        0\n",
       "rev_stop             0\n",
       "went_on_backorder    0\n",
       "bo_cat               0\n",
       "dtype: int64"
      ]
     },
     "execution_count": 64,
     "metadata": {},
     "output_type": "execute_result"
    }
   ],
   "source": [
    "train.isnull().sum()"
   ]
  },
  {
   "cell_type": "code",
   "execution_count": 6,
   "metadata": {},
   "outputs": [],
   "source": [
    "train.lead_time.fillna(99999,inplace=True) # repalce missing values in `lead_time` with 99999"
   ]
  },
  {
   "cell_type": "markdown",
   "metadata": {},
   "source": [
    " - also, let's encode categorical variables with 'Yes' and 'No' into 0 and 1, while keeping a copy of the categorical `went_on_backorder`"
   ]
  },
  {
   "cell_type": "code",
   "execution_count": 7,
   "metadata": {},
   "outputs": [],
   "source": [
    "train['bo_cat'] = train.went_on_backorder"
   ]
  },
  {
   "cell_type": "code",
   "execution_count": 8,
   "metadata": {},
   "outputs": [],
   "source": [
    "TrueFalse= {'Yes': 1, 'No':0}\n",
    "\n",
    "train.deck_risk=[TrueFalse[item] for item in train.deck_risk]\n",
    "train.potential_issue=[TrueFalse[item] for item in train.potential_issue]\n",
    "train.oe_constraint=[TrueFalse[item] for item in train.oe_constraint]\n",
    "train.ppap_risk=[TrueFalse[item] for item in train.ppap_risk]\n",
    "train.stop_auto_buy =[TrueFalse[item] for item in train.stop_auto_buy ]\n",
    "train.rev_stop=[TrueFalse[item] for item in train.rev_stop]\n",
    "train.went_on_backorder=[TrueFalse[item] for item in train.went_on_backorder]"
   ]
  },
  {
   "cell_type": "markdown",
   "metadata": {},
   "source": [
    "# Now we can check how variables look like among products that were and weren't back ordered"
   ]
  },
  {
   "cell_type": "code",
   "execution_count": 63,
   "metadata": {},
   "outputs": [
    {
     "data": {
      "text/html": [
       "<div>\n",
       "<style scoped>\n",
       "    .dataframe tbody tr th:only-of-type {\n",
       "        vertical-align: middle;\n",
       "    }\n",
       "\n",
       "    .dataframe tbody tr th {\n",
       "        vertical-align: top;\n",
       "    }\n",
       "\n",
       "    .dataframe thead th {\n",
       "        text-align: right;\n",
       "    }\n",
       "</style>\n",
       "<table border=\"1\" class=\"dataframe\">\n",
       "  <thead>\n",
       "    <tr style=\"text-align: right;\">\n",
       "      <th>went_on_backorder</th>\n",
       "      <th>0</th>\n",
       "      <th>1</th>\n",
       "      <th>0</th>\n",
       "      <th>1</th>\n",
       "      <th>0</th>\n",
       "      <th>1</th>\n",
       "    </tr>\n",
       "  </thead>\n",
       "  <tbody>\n",
       "    <tr>\n",
       "      <th>deck_risk</th>\n",
       "      <td>0.229974</td>\n",
       "      <td>0.169663</td>\n",
       "      <td>0.420816</td>\n",
       "      <td>0.375353</td>\n",
       "      <td>1.829841</td>\n",
       "      <td>2.212348</td>\n",
       "    </tr>\n",
       "    <tr>\n",
       "      <th>forecast_3_month</th>\n",
       "      <td>178.259421</td>\n",
       "      <td>157.314354</td>\n",
       "      <td>5041.668512</td>\n",
       "      <td>1634.781769</td>\n",
       "      <td>28.282760</td>\n",
       "      <td>10.391816</td>\n",
       "    </tr>\n",
       "    <tr>\n",
       "      <th>forecast_6_month</th>\n",
       "      <td>345.662315</td>\n",
       "      <td>244.678916</td>\n",
       "      <td>9826.013034</td>\n",
       "      <td>2457.176079</td>\n",
       "      <td>28.426625</td>\n",
       "      <td>10.042451</td>\n",
       "    </tr>\n",
       "    <tr>\n",
       "      <th>forecast_9_month</th>\n",
       "      <td>507.579735</td>\n",
       "      <td>325.939520</td>\n",
       "      <td>14424.952051</td>\n",
       "      <td>3145.250001</td>\n",
       "      <td>28.419086</td>\n",
       "      <td>9.649796</td>\n",
       "    </tr>\n",
       "    <tr>\n",
       "      <th>in_transit_qty</th>\n",
       "      <td>44.319523</td>\n",
       "      <td>4.338617</td>\n",
       "      <td>1347.246791</td>\n",
       "      <td>47.313292</td>\n",
       "      <td>30.398495</td>\n",
       "      <td>10.905156</td>\n",
       "    </tr>\n",
       "    <tr>\n",
       "      <th>lead_time</th>\n",
       "      <td>6005.857867</td>\n",
       "      <td>2875.146374</td>\n",
       "      <td>23743.817774</td>\n",
       "      <td>16692.990057</td>\n",
       "      <td>3.953443</td>\n",
       "      <td>5.805962</td>\n",
       "    </tr>\n",
       "    <tr>\n",
       "      <th>local_bo_qty</th>\n",
       "      <td>0.600148</td>\n",
       "      <td>4.531391</td>\n",
       "      <td>33.448522</td>\n",
       "      <td>62.062589</td>\n",
       "      <td>55.733808</td>\n",
       "      <td>13.696145</td>\n",
       "    </tr>\n",
       "    <tr>\n",
       "      <th>min_bank</th>\n",
       "      <td>52.964627</td>\n",
       "      <td>24.219782</td>\n",
       "      <td>1259.144105</td>\n",
       "      <td>145.151363</td>\n",
       "      <td>23.773303</td>\n",
       "      <td>5.993091</td>\n",
       "    </tr>\n",
       "    <tr>\n",
       "      <th>national_inv</th>\n",
       "      <td>499.309119</td>\n",
       "      <td>21.432746</td>\n",
       "      <td>29714.739833</td>\n",
       "      <td>608.192119</td>\n",
       "      <td>59.511711</td>\n",
       "      <td>28.376771</td>\n",
       "    </tr>\n",
       "    <tr>\n",
       "      <th>oe_constraint</th>\n",
       "      <td>0.000141</td>\n",
       "      <td>0.000708</td>\n",
       "      <td>0.011889</td>\n",
       "      <td>0.026608</td>\n",
       "      <td>84.101882</td>\n",
       "      <td>37.559951</td>\n",
       "    </tr>\n",
       "    <tr>\n",
       "      <th>perf_12_month_avg</th>\n",
       "      <td>-6.462536</td>\n",
       "      <td>-2.787339</td>\n",
       "      <td>25.884852</td>\n",
       "      <td>18.320048</td>\n",
       "      <td>-4.005370</td>\n",
       "      <td>-6.572594</td>\n",
       "    </tr>\n",
       "    <tr>\n",
       "      <th>perf_6_month_avg</th>\n",
       "      <td>-6.897507</td>\n",
       "      <td>-3.094070</td>\n",
       "      <td>26.597756</td>\n",
       "      <td>19.084198</td>\n",
       "      <td>-3.856141</td>\n",
       "      <td>-6.167992</td>\n",
       "    </tr>\n",
       "    <tr>\n",
       "      <th>pieces_past_due</th>\n",
       "      <td>2.033727</td>\n",
       "      <td>3.527849</td>\n",
       "      <td>236.793511</td>\n",
       "      <td>34.064959</td>\n",
       "      <td>116.433268</td>\n",
       "      <td>9.656013</td>\n",
       "    </tr>\n",
       "    <tr>\n",
       "      <th>potential_issue</th>\n",
       "      <td>0.000511</td>\n",
       "      <td>0.004516</td>\n",
       "      <td>0.022590</td>\n",
       "      <td>0.067053</td>\n",
       "      <td>44.244858</td>\n",
       "      <td>14.847589</td>\n",
       "    </tr>\n",
       "    <tr>\n",
       "      <th>ppap_risk</th>\n",
       "      <td>0.120529</td>\n",
       "      <td>0.155760</td>\n",
       "      <td>0.325579</td>\n",
       "      <td>0.362644</td>\n",
       "      <td>2.701252</td>\n",
       "      <td>2.328219</td>\n",
       "    </tr>\n",
       "    <tr>\n",
       "      <th>rev_stop</th>\n",
       "      <td>0.000436</td>\n",
       "      <td>0.000000</td>\n",
       "      <td>0.020876</td>\n",
       "      <td>0.000000</td>\n",
       "      <td>47.880337</td>\n",
       "      <td>NaN</td>\n",
       "    </tr>\n",
       "    <tr>\n",
       "      <th>sales_1_month</th>\n",
       "      <td>56.104982</td>\n",
       "      <td>29.364474</td>\n",
       "      <td>1934.547772</td>\n",
       "      <td>273.212029</td>\n",
       "      <td>34.480856</td>\n",
       "      <td>9.304169</td>\n",
       "    </tr>\n",
       "    <tr>\n",
       "      <th>sales_3_month</th>\n",
       "      <td>175.670378</td>\n",
       "      <td>79.350748</td>\n",
       "      <td>5209.661919</td>\n",
       "      <td>509.481213</td>\n",
       "      <td>29.655893</td>\n",
       "      <td>6.420623</td>\n",
       "    </tr>\n",
       "    <tr>\n",
       "      <th>sales_6_month</th>\n",
       "      <td>343.092551</td>\n",
       "      <td>139.271230</td>\n",
       "      <td>9645.191056</td>\n",
       "      <td>901.024234</td>\n",
       "      <td>28.112505</td>\n",
       "      <td>6.469565</td>\n",
       "    </tr>\n",
       "    <tr>\n",
       "      <th>sales_9_month</th>\n",
       "      <td>527.417690</td>\n",
       "      <td>206.377668</td>\n",
       "      <td>14888.053478</td>\n",
       "      <td>1375.447106</td>\n",
       "      <td>28.228203</td>\n",
       "      <td>6.664709</td>\n",
       "    </tr>\n",
       "    <tr>\n",
       "      <th>stop_auto_buy</th>\n",
       "      <td>0.963846</td>\n",
       "      <td>0.958293</td>\n",
       "      <td>0.186674</td>\n",
       "      <td>0.199928</td>\n",
       "      <td>0.193676</td>\n",
       "      <td>0.208630</td>\n",
       "    </tr>\n",
       "  </tbody>\n",
       "</table>\n",
       "</div>"
      ],
      "text/plain": [
       "went_on_backorder            0            1             0             1  \\\n",
       "deck_risk             0.229974     0.169663      0.420816      0.375353   \n",
       "forecast_3_month    178.259421   157.314354   5041.668512   1634.781769   \n",
       "forecast_6_month    345.662315   244.678916   9826.013034   2457.176079   \n",
       "forecast_9_month    507.579735   325.939520  14424.952051   3145.250001   \n",
       "in_transit_qty       44.319523     4.338617   1347.246791     47.313292   \n",
       "lead_time          6005.857867  2875.146374  23743.817774  16692.990057   \n",
       "local_bo_qty          0.600148     4.531391     33.448522     62.062589   \n",
       "min_bank             52.964627    24.219782   1259.144105    145.151363   \n",
       "national_inv        499.309119    21.432746  29714.739833    608.192119   \n",
       "oe_constraint         0.000141     0.000708      0.011889      0.026608   \n",
       "perf_12_month_avg    -6.462536    -2.787339     25.884852     18.320048   \n",
       "perf_6_month_avg     -6.897507    -3.094070     26.597756     19.084198   \n",
       "pieces_past_due       2.033727     3.527849    236.793511     34.064959   \n",
       "potential_issue       0.000511     0.004516      0.022590      0.067053   \n",
       "ppap_risk             0.120529     0.155760      0.325579      0.362644   \n",
       "rev_stop              0.000436     0.000000      0.020876      0.000000   \n",
       "sales_1_month        56.104982    29.364474   1934.547772    273.212029   \n",
       "sales_3_month       175.670378    79.350748   5209.661919    509.481213   \n",
       "sales_6_month       343.092551   139.271230   9645.191056    901.024234   \n",
       "sales_9_month       527.417690   206.377668  14888.053478   1375.447106   \n",
       "stop_auto_buy         0.963846     0.958293      0.186674      0.199928   \n",
       "\n",
       "went_on_backorder           0          1  \n",
       "deck_risk            1.829841   2.212348  \n",
       "forecast_3_month    28.282760  10.391816  \n",
       "forecast_6_month    28.426625  10.042451  \n",
       "forecast_9_month    28.419086   9.649796  \n",
       "in_transit_qty      30.398495  10.905156  \n",
       "lead_time            3.953443   5.805962  \n",
       "local_bo_qty        55.733808  13.696145  \n",
       "min_bank            23.773303   5.993091  \n",
       "national_inv        59.511711  28.376771  \n",
       "oe_constraint       84.101882  37.559951  \n",
       "perf_12_month_avg   -4.005370  -6.572594  \n",
       "perf_6_month_avg    -3.856141  -6.167992  \n",
       "pieces_past_due    116.433268   9.656013  \n",
       "potential_issue     44.244858  14.847589  \n",
       "ppap_risk            2.701252   2.328219  \n",
       "rev_stop            47.880337        NaN  \n",
       "sales_1_month       34.480856   9.304169  \n",
       "sales_3_month       29.655893   6.420623  \n",
       "sales_6_month       28.112505   6.469565  \n",
       "sales_9_month       28.228203   6.664709  \n",
       "stop_auto_buy        0.193676   0.208630  "
      ]
     },
     "execution_count": 63,
     "metadata": {},
     "output_type": "execute_result"
    }
   ],
   "source": [
    "df1=pd.pivot_table(train, index = [\"went_on_backorder\"],aggfunc = 'mean').T\n",
    "df2=pd.pivot_table(train, index = [\"went_on_backorder\"],aggfunc = 'std').T\n",
    "pd.concat([df1, df2, df2/df1], axis=1)"
   ]
  },
  {
   "cell_type": "markdown",
   "metadata": {},
   "source": [
    "  - It seems that, for some variables, the distribution doesn't vary much between the 2 classes: `deck_risk` (?), `oe_constraint` (?), `potential_issue` (?), `ppap_risk` (?), `rev_stop` (?) and `stop_auto_buy`. Aside from `potential_issue`, these seem to be risk flags for the parts in inventory. It could mean that risk flags are unrelated with order/inventory pattern in the products. `potential_issue`s are rarely identified.\n",
    " <br>\n",
    "  - What this means for us is that perhaps we don't have to use these variables in our model as they might not be very informative."
   ]
  },
  {
   "cell_type": "code",
   "execution_count": 17,
   "metadata": {},
   "outputs": [
    {
     "data": {
      "text/plain": [
       "0.02869033914814487"
      ]
     },
     "execution_count": 17,
     "metadata": {},
     "output_type": "execute_result"
    }
   ],
   "source": [
    "train.sku.loc[(train.lead_time==99999) & (train.went_on_backorder==1)].count() / train.sku.loc[(train.went_on_backorder==1)].count()"
   ]
  },
  {
   "cell_type": "code",
   "execution_count": 18,
   "metadata": {},
   "outputs": [
    {
     "data": {
      "text/plain": [
       "0.059985076647697345"
      ]
     },
     "execution_count": 18,
     "metadata": {},
     "output_type": "execute_result"
    }
   ],
   "source": [
    "train.sku.loc[(train.lead_time==99999) & (train.went_on_backorder==0)].count() / train.sku.loc[(train.went_on_backorder==0)].count()"
   ]
  },
  {
   "cell_type": "markdown",
   "metadata": {},
   "source": [
    " - Number of missing values for `lead_time` is a bit different between back ordered (3%) and non BO products (6%). Are products with missing `lead_time` less likely to be backordered?"
   ]
  },
  {
   "cell_type": "code",
   "execution_count": 19,
   "metadata": {},
   "outputs": [
    {
     "data": {
      "text/plain": [
       "0.0032113228866224616"
      ]
     },
     "execution_count": 19,
     "metadata": {},
     "output_type": "execute_result"
    }
   ],
   "source": [
    "train.sku.loc[(train.lead_time==99999) & (train.went_on_backorder==1)].count() / train.sku.loc[(train.lead_time==99999)].count()"
   ]
  },
  {
   "cell_type": "code",
   "execution_count": 21,
   "metadata": {},
   "outputs": [
    {
     "data": {
      "text/plain": [
       "324"
      ]
     },
     "execution_count": 21,
     "metadata": {},
     "output_type": "execute_result"
    }
   ],
   "source": [
    "train.sku.loc[(train.lead_time==99999) & (train.went_on_backorder==1)].count()"
   ]
  },
  {
   "cell_type": "code",
   "execution_count": 20,
   "metadata": {},
   "outputs": [
    {
     "data": {
      "text/plain": [
       "0.9967886771133775"
      ]
     },
     "execution_count": 20,
     "metadata": {},
     "output_type": "execute_result"
    }
   ],
   "source": [
    "train.sku.loc[(train.lead_time==99999) & (train.went_on_backorder==0)].count() / train.sku.loc[(train.lead_time==99999)].count()"
   ]
  },
  {
   "cell_type": "markdown",
   "metadata": {},
   "source": [
    " - 99.7% of products without `lead_time` did not go into backorder. Perhaps this can be an important predictor of not being backordered? (if `lead_time` being unavailable means that the product cannot be shipped, then placing back orders on the product may not be allowed)"
   ]
  },
  {
   "cell_type": "code",
   "execution_count": 27,
   "metadata": {},
   "outputs": [
    {
     "data": {
      "text/html": [
       "<div>\n",
       "<style scoped>\n",
       "    .dataframe tbody tr th:only-of-type {\n",
       "        vertical-align: middle;\n",
       "    }\n",
       "\n",
       "    .dataframe tbody tr th {\n",
       "        vertical-align: top;\n",
       "    }\n",
       "\n",
       "    .dataframe thead th {\n",
       "        text-align: right;\n",
       "    }\n",
       "</style>\n",
       "<table border=\"1\" class=\"dataframe\">\n",
       "  <thead>\n",
       "    <tr style=\"text-align: right;\">\n",
       "      <th></th>\n",
       "      <th>count</th>\n",
       "      <th>mean</th>\n",
       "      <th>std</th>\n",
       "      <th>min</th>\n",
       "      <th>25%</th>\n",
       "      <th>50%</th>\n",
       "      <th>75%</th>\n",
       "      <th>max</th>\n",
       "    </tr>\n",
       "  </thead>\n",
       "  <tbody>\n",
       "    <tr>\n",
       "      <th>national_inv</th>\n",
       "      <td>100569.0</td>\n",
       "      <td>601.785053</td>\n",
       "      <td>8799.894525</td>\n",
       "      <td>-4573.0</td>\n",
       "      <td>4.0</td>\n",
       "      <td>22.0</td>\n",
       "      <td>113.00</td>\n",
       "      <td>917218.0</td>\n",
       "    </tr>\n",
       "    <tr>\n",
       "      <th>lead_time</th>\n",
       "      <td>100569.0</td>\n",
       "      <td>99999.000000</td>\n",
       "      <td>0.000000</td>\n",
       "      <td>99999.0</td>\n",
       "      <td>99999.0</td>\n",
       "      <td>99999.0</td>\n",
       "      <td>99999.00</td>\n",
       "      <td>99999.0</td>\n",
       "    </tr>\n",
       "    <tr>\n",
       "      <th>in_transit_qty</th>\n",
       "      <td>100569.0</td>\n",
       "      <td>21.674532</td>\n",
       "      <td>1790.333750</td>\n",
       "      <td>0.0</td>\n",
       "      <td>0.0</td>\n",
       "      <td>0.0</td>\n",
       "      <td>0.00</td>\n",
       "      <td>285365.0</td>\n",
       "    </tr>\n",
       "    <tr>\n",
       "      <th>forecast_3_month</th>\n",
       "      <td>100569.0</td>\n",
       "      <td>10.688264</td>\n",
       "      <td>336.038922</td>\n",
       "      <td>0.0</td>\n",
       "      <td>0.0</td>\n",
       "      <td>0.0</td>\n",
       "      <td>0.00</td>\n",
       "      <td>35792.0</td>\n",
       "    </tr>\n",
       "    <tr>\n",
       "      <th>forecast_6_month</th>\n",
       "      <td>100569.0</td>\n",
       "      <td>24.500890</td>\n",
       "      <td>747.238237</td>\n",
       "      <td>0.0</td>\n",
       "      <td>0.0</td>\n",
       "      <td>0.0</td>\n",
       "      <td>0.00</td>\n",
       "      <td>74986.0</td>\n",
       "    </tr>\n",
       "    <tr>\n",
       "      <th>forecast_9_month</th>\n",
       "      <td>100569.0</td>\n",
       "      <td>35.409828</td>\n",
       "      <td>1120.583300</td>\n",
       "      <td>0.0</td>\n",
       "      <td>0.0</td>\n",
       "      <td>0.0</td>\n",
       "      <td>0.00</td>\n",
       "      <td>112141.0</td>\n",
       "    </tr>\n",
       "    <tr>\n",
       "      <th>sales_1_month</th>\n",
       "      <td>100569.0</td>\n",
       "      <td>40.275353</td>\n",
       "      <td>2848.176966</td>\n",
       "      <td>0.0</td>\n",
       "      <td>0.0</td>\n",
       "      <td>0.0</td>\n",
       "      <td>1.00</td>\n",
       "      <td>361803.0</td>\n",
       "    </tr>\n",
       "    <tr>\n",
       "      <th>sales_3_month</th>\n",
       "      <td>100569.0</td>\n",
       "      <td>120.264942</td>\n",
       "      <td>7907.315690</td>\n",
       "      <td>0.0</td>\n",
       "      <td>0.0</td>\n",
       "      <td>0.0</td>\n",
       "      <td>4.00</td>\n",
       "      <td>1100523.0</td>\n",
       "    </tr>\n",
       "    <tr>\n",
       "      <th>sales_6_month</th>\n",
       "      <td>100569.0</td>\n",
       "      <td>175.793326</td>\n",
       "      <td>8517.067414</td>\n",
       "      <td>0.0</td>\n",
       "      <td>0.0</td>\n",
       "      <td>1.0</td>\n",
       "      <td>8.00</td>\n",
       "      <td>1309162.0</td>\n",
       "    </tr>\n",
       "    <tr>\n",
       "      <th>sales_9_month</th>\n",
       "      <td>100569.0</td>\n",
       "      <td>227.440146</td>\n",
       "      <td>8604.485143</td>\n",
       "      <td>0.0</td>\n",
       "      <td>0.0</td>\n",
       "      <td>1.0</td>\n",
       "      <td>13.00</td>\n",
       "      <td>1309162.0</td>\n",
       "    </tr>\n",
       "    <tr>\n",
       "      <th>min_bank</th>\n",
       "      <td>100569.0</td>\n",
       "      <td>45.933618</td>\n",
       "      <td>2583.176559</td>\n",
       "      <td>0.0</td>\n",
       "      <td>0.0</td>\n",
       "      <td>1.0</td>\n",
       "      <td>2.00</td>\n",
       "      <td>313319.0</td>\n",
       "    </tr>\n",
       "    <tr>\n",
       "      <th>potential_issue</th>\n",
       "      <td>100569.0</td>\n",
       "      <td>0.000050</td>\n",
       "      <td>0.007051</td>\n",
       "      <td>0.0</td>\n",
       "      <td>0.0</td>\n",
       "      <td>0.0</td>\n",
       "      <td>0.00</td>\n",
       "      <td>1.0</td>\n",
       "    </tr>\n",
       "    <tr>\n",
       "      <th>pieces_past_due</th>\n",
       "      <td>100569.0</td>\n",
       "      <td>0.014378</td>\n",
       "      <td>2.416494</td>\n",
       "      <td>0.0</td>\n",
       "      <td>0.0</td>\n",
       "      <td>0.0</td>\n",
       "      <td>0.00</td>\n",
       "      <td>573.0</td>\n",
       "    </tr>\n",
       "    <tr>\n",
       "      <th>perf_6_month_avg</th>\n",
       "      <td>100569.0</td>\n",
       "      <td>-99.000000</td>\n",
       "      <td>0.000000</td>\n",
       "      <td>-99.0</td>\n",
       "      <td>-99.0</td>\n",
       "      <td>-99.0</td>\n",
       "      <td>-99.00</td>\n",
       "      <td>-99.0</td>\n",
       "    </tr>\n",
       "    <tr>\n",
       "      <th>perf_12_month_avg</th>\n",
       "      <td>100569.0</td>\n",
       "      <td>-99.000000</td>\n",
       "      <td>0.000000</td>\n",
       "      <td>-99.0</td>\n",
       "      <td>-99.0</td>\n",
       "      <td>-99.0</td>\n",
       "      <td>-99.00</td>\n",
       "      <td>-99.0</td>\n",
       "    </tr>\n",
       "    <tr>\n",
       "      <th>local_bo_qty</th>\n",
       "      <td>100569.0</td>\n",
       "      <td>0.515636</td>\n",
       "      <td>37.953503</td>\n",
       "      <td>0.0</td>\n",
       "      <td>0.0</td>\n",
       "      <td>0.0</td>\n",
       "      <td>0.00</td>\n",
       "      <td>7048.0</td>\n",
       "    </tr>\n",
       "    <tr>\n",
       "      <th>deck_risk</th>\n",
       "      <td>100569.0</td>\n",
       "      <td>0.644940</td>\n",
       "      <td>0.478534</td>\n",
       "      <td>0.0</td>\n",
       "      <td>0.0</td>\n",
       "      <td>1.0</td>\n",
       "      <td>1.00</td>\n",
       "      <td>1.0</td>\n",
       "    </tr>\n",
       "    <tr>\n",
       "      <th>oe_constraint</th>\n",
       "      <td>100569.0</td>\n",
       "      <td>0.000000</td>\n",
       "      <td>0.000000</td>\n",
       "      <td>0.0</td>\n",
       "      <td>0.0</td>\n",
       "      <td>0.0</td>\n",
       "      <td>0.00</td>\n",
       "      <td>0.0</td>\n",
       "    </tr>\n",
       "    <tr>\n",
       "      <th>ppap_risk</th>\n",
       "      <td>100569.0</td>\n",
       "      <td>0.151299</td>\n",
       "      <td>0.358342</td>\n",
       "      <td>0.0</td>\n",
       "      <td>0.0</td>\n",
       "      <td>0.0</td>\n",
       "      <td>0.00</td>\n",
       "      <td>1.0</td>\n",
       "    </tr>\n",
       "    <tr>\n",
       "      <th>stop_auto_buy</th>\n",
       "      <td>100569.0</td>\n",
       "      <td>0.782786</td>\n",
       "      <td>0.412352</td>\n",
       "      <td>0.0</td>\n",
       "      <td>1.0</td>\n",
       "      <td>1.0</td>\n",
       "      <td>1.00</td>\n",
       "      <td>1.0</td>\n",
       "    </tr>\n",
       "    <tr>\n",
       "      <th>rev_stop</th>\n",
       "      <td>100569.0</td>\n",
       "      <td>0.003192</td>\n",
       "      <td>0.056406</td>\n",
       "      <td>0.0</td>\n",
       "      <td>0.0</td>\n",
       "      <td>0.0</td>\n",
       "      <td>0.00</td>\n",
       "      <td>1.0</td>\n",
       "    </tr>\n",
       "    <tr>\n",
       "      <th>went_on_backorder</th>\n",
       "      <td>100569.0</td>\n",
       "      <td>0.000000</td>\n",
       "      <td>0.000000</td>\n",
       "      <td>0.0</td>\n",
       "      <td>0.0</td>\n",
       "      <td>0.0</td>\n",
       "      <td>0.00</td>\n",
       "      <td>0.0</td>\n",
       "    </tr>\n",
       "    <tr>\n",
       "      <th>national_inv</th>\n",
       "      <td>324.0</td>\n",
       "      <td>32.067901</td>\n",
       "      <td>292.623812</td>\n",
       "      <td>-171.0</td>\n",
       "      <td>0.0</td>\n",
       "      <td>0.0</td>\n",
       "      <td>1.00</td>\n",
       "      <td>3602.0</td>\n",
       "    </tr>\n",
       "    <tr>\n",
       "      <th>lead_time</th>\n",
       "      <td>324.0</td>\n",
       "      <td>99999.000000</td>\n",
       "      <td>0.000000</td>\n",
       "      <td>99999.0</td>\n",
       "      <td>99999.0</td>\n",
       "      <td>99999.0</td>\n",
       "      <td>99999.00</td>\n",
       "      <td>99999.0</td>\n",
       "    </tr>\n",
       "    <tr>\n",
       "      <th>in_transit_qty</th>\n",
       "      <td>324.0</td>\n",
       "      <td>20.537037</td>\n",
       "      <td>176.581440</td>\n",
       "      <td>0.0</td>\n",
       "      <td>0.0</td>\n",
       "      <td>0.0</td>\n",
       "      <td>0.00</td>\n",
       "      <td>2259.0</td>\n",
       "    </tr>\n",
       "    <tr>\n",
       "      <th>forecast_3_month</th>\n",
       "      <td>324.0</td>\n",
       "      <td>108.663580</td>\n",
       "      <td>730.658544</td>\n",
       "      <td>0.0</td>\n",
       "      <td>0.0</td>\n",
       "      <td>0.0</td>\n",
       "      <td>4.25</td>\n",
       "      <td>8499.0</td>\n",
       "    </tr>\n",
       "    <tr>\n",
       "      <th>forecast_6_month</th>\n",
       "      <td>324.0</td>\n",
       "      <td>136.407407</td>\n",
       "      <td>819.071267</td>\n",
       "      <td>0.0</td>\n",
       "      <td>0.0</td>\n",
       "      <td>0.0</td>\n",
       "      <td>12.00</td>\n",
       "      <td>8499.0</td>\n",
       "    </tr>\n",
       "    <tr>\n",
       "      <th>forecast_9_month</th>\n",
       "      <td>324.0</td>\n",
       "      <td>161.373457</td>\n",
       "      <td>928.604372</td>\n",
       "      <td>0.0</td>\n",
       "      <td>0.0</td>\n",
       "      <td>0.0</td>\n",
       "      <td>12.00</td>\n",
       "      <td>8660.0</td>\n",
       "    </tr>\n",
       "    <tr>\n",
       "      <th>sales_1_month</th>\n",
       "      <td>324.0</td>\n",
       "      <td>87.679012</td>\n",
       "      <td>388.454765</td>\n",
       "      <td>0.0</td>\n",
       "      <td>0.0</td>\n",
       "      <td>2.0</td>\n",
       "      <td>10.00</td>\n",
       "      <td>3503.0</td>\n",
       "    </tr>\n",
       "    <tr>\n",
       "      <th>sales_3_month</th>\n",
       "      <td>324.0</td>\n",
       "      <td>237.222222</td>\n",
       "      <td>979.241442</td>\n",
       "      <td>0.0</td>\n",
       "      <td>0.0</td>\n",
       "      <td>8.5</td>\n",
       "      <td>33.25</td>\n",
       "      <td>8744.0</td>\n",
       "    </tr>\n",
       "    <tr>\n",
       "      <th>sales_6_month</th>\n",
       "      <td>324.0</td>\n",
       "      <td>403.506173</td>\n",
       "      <td>1717.478315</td>\n",
       "      <td>0.0</td>\n",
       "      <td>0.0</td>\n",
       "      <td>16.0</td>\n",
       "      <td>72.00</td>\n",
       "      <td>15022.0</td>\n",
       "    </tr>\n",
       "    <tr>\n",
       "      <th>sales_9_month</th>\n",
       "      <td>324.0</td>\n",
       "      <td>606.225309</td>\n",
       "      <td>2758.591120</td>\n",
       "      <td>0.0</td>\n",
       "      <td>0.0</td>\n",
       "      <td>21.0</td>\n",
       "      <td>97.25</td>\n",
       "      <td>24276.0</td>\n",
       "    </tr>\n",
       "    <tr>\n",
       "      <th>min_bank</th>\n",
       "      <td>324.0</td>\n",
       "      <td>61.996914</td>\n",
       "      <td>221.737880</td>\n",
       "      <td>0.0</td>\n",
       "      <td>0.0</td>\n",
       "      <td>2.0</td>\n",
       "      <td>19.00</td>\n",
       "      <td>1777.0</td>\n",
       "    </tr>\n",
       "    <tr>\n",
       "      <th>potential_issue</th>\n",
       "      <td>324.0</td>\n",
       "      <td>0.000000</td>\n",
       "      <td>0.000000</td>\n",
       "      <td>0.0</td>\n",
       "      <td>0.0</td>\n",
       "      <td>0.0</td>\n",
       "      <td>0.00</td>\n",
       "      <td>0.0</td>\n",
       "    </tr>\n",
       "    <tr>\n",
       "      <th>pieces_past_due</th>\n",
       "      <td>324.0</td>\n",
       "      <td>0.382716</td>\n",
       "      <td>5.630672</td>\n",
       "      <td>0.0</td>\n",
       "      <td>0.0</td>\n",
       "      <td>0.0</td>\n",
       "      <td>0.00</td>\n",
       "      <td>100.0</td>\n",
       "    </tr>\n",
       "    <tr>\n",
       "      <th>perf_6_month_avg</th>\n",
       "      <td>324.0</td>\n",
       "      <td>-99.000000</td>\n",
       "      <td>0.000000</td>\n",
       "      <td>-99.0</td>\n",
       "      <td>-99.0</td>\n",
       "      <td>-99.0</td>\n",
       "      <td>-99.00</td>\n",
       "      <td>-99.0</td>\n",
       "    </tr>\n",
       "    <tr>\n",
       "      <th>perf_12_month_avg</th>\n",
       "      <td>324.0</td>\n",
       "      <td>-99.000000</td>\n",
       "      <td>0.000000</td>\n",
       "      <td>-99.0</td>\n",
       "      <td>-99.0</td>\n",
       "      <td>-99.0</td>\n",
       "      <td>-99.00</td>\n",
       "      <td>-99.0</td>\n",
       "    </tr>\n",
       "    <tr>\n",
       "      <th>local_bo_qty</th>\n",
       "      <td>324.0</td>\n",
       "      <td>1.373457</td>\n",
       "      <td>8.219100</td>\n",
       "      <td>0.0</td>\n",
       "      <td>0.0</td>\n",
       "      <td>0.0</td>\n",
       "      <td>0.00</td>\n",
       "      <td>105.0</td>\n",
       "    </tr>\n",
       "    <tr>\n",
       "      <th>deck_risk</th>\n",
       "      <td>324.0</td>\n",
       "      <td>0.200617</td>\n",
       "      <td>0.401082</td>\n",
       "      <td>0.0</td>\n",
       "      <td>0.0</td>\n",
       "      <td>0.0</td>\n",
       "      <td>0.00</td>\n",
       "      <td>1.0</td>\n",
       "    </tr>\n",
       "    <tr>\n",
       "      <th>oe_constraint</th>\n",
       "      <td>324.0</td>\n",
       "      <td>0.000000</td>\n",
       "      <td>0.000000</td>\n",
       "      <td>0.0</td>\n",
       "      <td>0.0</td>\n",
       "      <td>0.0</td>\n",
       "      <td>0.00</td>\n",
       "      <td>0.0</td>\n",
       "    </tr>\n",
       "    <tr>\n",
       "      <th>ppap_risk</th>\n",
       "      <td>324.0</td>\n",
       "      <td>0.222222</td>\n",
       "      <td>0.416383</td>\n",
       "      <td>0.0</td>\n",
       "      <td>0.0</td>\n",
       "      <td>0.0</td>\n",
       "      <td>0.00</td>\n",
       "      <td>1.0</td>\n",
       "    </tr>\n",
       "    <tr>\n",
       "      <th>stop_auto_buy</th>\n",
       "      <td>324.0</td>\n",
       "      <td>0.537037</td>\n",
       "      <td>0.499398</td>\n",
       "      <td>0.0</td>\n",
       "      <td>0.0</td>\n",
       "      <td>1.0</td>\n",
       "      <td>1.00</td>\n",
       "      <td>1.0</td>\n",
       "    </tr>\n",
       "    <tr>\n",
       "      <th>rev_stop</th>\n",
       "      <td>324.0</td>\n",
       "      <td>0.000000</td>\n",
       "      <td>0.000000</td>\n",
       "      <td>0.0</td>\n",
       "      <td>0.0</td>\n",
       "      <td>0.0</td>\n",
       "      <td>0.00</td>\n",
       "      <td>0.0</td>\n",
       "    </tr>\n",
       "    <tr>\n",
       "      <th>went_on_backorder</th>\n",
       "      <td>324.0</td>\n",
       "      <td>1.000000</td>\n",
       "      <td>0.000000</td>\n",
       "      <td>1.0</td>\n",
       "      <td>1.0</td>\n",
       "      <td>1.0</td>\n",
       "      <td>1.00</td>\n",
       "      <td>1.0</td>\n",
       "    </tr>\n",
       "  </tbody>\n",
       "</table>\n",
       "</div>"
      ],
      "text/plain": [
       "                      count          mean          std      min      25%  \\\n",
       "national_inv       100569.0    601.785053  8799.894525  -4573.0      4.0   \n",
       "lead_time          100569.0  99999.000000     0.000000  99999.0  99999.0   \n",
       "in_transit_qty     100569.0     21.674532  1790.333750      0.0      0.0   \n",
       "forecast_3_month   100569.0     10.688264   336.038922      0.0      0.0   \n",
       "forecast_6_month   100569.0     24.500890   747.238237      0.0      0.0   \n",
       "forecast_9_month   100569.0     35.409828  1120.583300      0.0      0.0   \n",
       "sales_1_month      100569.0     40.275353  2848.176966      0.0      0.0   \n",
       "sales_3_month      100569.0    120.264942  7907.315690      0.0      0.0   \n",
       "sales_6_month      100569.0    175.793326  8517.067414      0.0      0.0   \n",
       "sales_9_month      100569.0    227.440146  8604.485143      0.0      0.0   \n",
       "min_bank           100569.0     45.933618  2583.176559      0.0      0.0   \n",
       "potential_issue    100569.0      0.000050     0.007051      0.0      0.0   \n",
       "pieces_past_due    100569.0      0.014378     2.416494      0.0      0.0   \n",
       "perf_6_month_avg   100569.0    -99.000000     0.000000    -99.0    -99.0   \n",
       "perf_12_month_avg  100569.0    -99.000000     0.000000    -99.0    -99.0   \n",
       "local_bo_qty       100569.0      0.515636    37.953503      0.0      0.0   \n",
       "deck_risk          100569.0      0.644940     0.478534      0.0      0.0   \n",
       "oe_constraint      100569.0      0.000000     0.000000      0.0      0.0   \n",
       "ppap_risk          100569.0      0.151299     0.358342      0.0      0.0   \n",
       "stop_auto_buy      100569.0      0.782786     0.412352      0.0      1.0   \n",
       "rev_stop           100569.0      0.003192     0.056406      0.0      0.0   \n",
       "went_on_backorder  100569.0      0.000000     0.000000      0.0      0.0   \n",
       "national_inv          324.0     32.067901   292.623812   -171.0      0.0   \n",
       "lead_time             324.0  99999.000000     0.000000  99999.0  99999.0   \n",
       "in_transit_qty        324.0     20.537037   176.581440      0.0      0.0   \n",
       "forecast_3_month      324.0    108.663580   730.658544      0.0      0.0   \n",
       "forecast_6_month      324.0    136.407407   819.071267      0.0      0.0   \n",
       "forecast_9_month      324.0    161.373457   928.604372      0.0      0.0   \n",
       "sales_1_month         324.0     87.679012   388.454765      0.0      0.0   \n",
       "sales_3_month         324.0    237.222222   979.241442      0.0      0.0   \n",
       "sales_6_month         324.0    403.506173  1717.478315      0.0      0.0   \n",
       "sales_9_month         324.0    606.225309  2758.591120      0.0      0.0   \n",
       "min_bank              324.0     61.996914   221.737880      0.0      0.0   \n",
       "potential_issue       324.0      0.000000     0.000000      0.0      0.0   \n",
       "pieces_past_due       324.0      0.382716     5.630672      0.0      0.0   \n",
       "perf_6_month_avg      324.0    -99.000000     0.000000    -99.0    -99.0   \n",
       "perf_12_month_avg     324.0    -99.000000     0.000000    -99.0    -99.0   \n",
       "local_bo_qty          324.0      1.373457     8.219100      0.0      0.0   \n",
       "deck_risk             324.0      0.200617     0.401082      0.0      0.0   \n",
       "oe_constraint         324.0      0.000000     0.000000      0.0      0.0   \n",
       "ppap_risk             324.0      0.222222     0.416383      0.0      0.0   \n",
       "stop_auto_buy         324.0      0.537037     0.499398      0.0      0.0   \n",
       "rev_stop              324.0      0.000000     0.000000      0.0      0.0   \n",
       "went_on_backorder     324.0      1.000000     0.000000      1.0      1.0   \n",
       "\n",
       "                       50%       75%        max  \n",
       "national_inv          22.0    113.00   917218.0  \n",
       "lead_time          99999.0  99999.00    99999.0  \n",
       "in_transit_qty         0.0      0.00   285365.0  \n",
       "forecast_3_month       0.0      0.00    35792.0  \n",
       "forecast_6_month       0.0      0.00    74986.0  \n",
       "forecast_9_month       0.0      0.00   112141.0  \n",
       "sales_1_month          0.0      1.00   361803.0  \n",
       "sales_3_month          0.0      4.00  1100523.0  \n",
       "sales_6_month          1.0      8.00  1309162.0  \n",
       "sales_9_month          1.0     13.00  1309162.0  \n",
       "min_bank               1.0      2.00   313319.0  \n",
       "potential_issue        0.0      0.00        1.0  \n",
       "pieces_past_due        0.0      0.00      573.0  \n",
       "perf_6_month_avg     -99.0    -99.00      -99.0  \n",
       "perf_12_month_avg    -99.0    -99.00      -99.0  \n",
       "local_bo_qty           0.0      0.00     7048.0  \n",
       "deck_risk              1.0      1.00        1.0  \n",
       "oe_constraint          0.0      0.00        0.0  \n",
       "ppap_risk              0.0      0.00        1.0  \n",
       "stop_auto_buy          1.0      1.00        1.0  \n",
       "rev_stop               0.0      0.00        1.0  \n",
       "went_on_backorder      0.0      0.00        0.0  \n",
       "national_inv           0.0      1.00     3602.0  \n",
       "lead_time          99999.0  99999.00    99999.0  \n",
       "in_transit_qty         0.0      0.00     2259.0  \n",
       "forecast_3_month       0.0      4.25     8499.0  \n",
       "forecast_6_month       0.0     12.00     8499.0  \n",
       "forecast_9_month       0.0     12.00     8660.0  \n",
       "sales_1_month          2.0     10.00     3503.0  \n",
       "sales_3_month          8.5     33.25     8744.0  \n",
       "sales_6_month         16.0     72.00    15022.0  \n",
       "sales_9_month         21.0     97.25    24276.0  \n",
       "min_bank               2.0     19.00     1777.0  \n",
       "potential_issue        0.0      0.00        0.0  \n",
       "pieces_past_due        0.0      0.00      100.0  \n",
       "perf_6_month_avg     -99.0    -99.00      -99.0  \n",
       "perf_12_month_avg    -99.0    -99.00      -99.0  \n",
       "local_bo_qty           0.0      0.00      105.0  \n",
       "deck_risk              0.0      0.00        1.0  \n",
       "oe_constraint          0.0      0.00        0.0  \n",
       "ppap_risk              0.0      0.00        1.0  \n",
       "stop_auto_buy          1.0      1.00        1.0  \n",
       "rev_stop               0.0      0.00        0.0  \n",
       "went_on_backorder      1.0      1.00        1.0  "
      ]
     },
     "execution_count": 27,
     "metadata": {},
     "output_type": "execute_result"
    }
   ],
   "source": [
    "pd.concat([train.loc[(train.lead_time==99999) & (train.went_on_backorder==0)].describe().T,train.loc[(train.lead_time==99999) & (train.went_on_backorder==1)].describe().T],axis=0)"
   ]
  },
  {
   "cell_type": "markdown",
   "metadata": {},
   "source": [
    " - these products with missing `lead_time` might be discontinued. Given that sales forecast variables tend to zero or very low most of the time."
   ]
  },
  {
   "cell_type": "code",
   "execution_count": 30,
   "metadata": {},
   "outputs": [
    {
     "data": {
      "text/html": [
       "<div>\n",
       "<style scoped>\n",
       "    .dataframe tbody tr th:only-of-type {\n",
       "        vertical-align: middle;\n",
       "    }\n",
       "\n",
       "    .dataframe tbody tr th {\n",
       "        vertical-align: top;\n",
       "    }\n",
       "\n",
       "    .dataframe thead th {\n",
       "        text-align: right;\n",
       "    }\n",
       "</style>\n",
       "<table border=\"1\" class=\"dataframe\">\n",
       "  <thead>\n",
       "    <tr style=\"text-align: right;\">\n",
       "      <th></th>\n",
       "      <th>count</th>\n",
       "      <th>mean</th>\n",
       "      <th>std</th>\n",
       "      <th>min</th>\n",
       "      <th>25%</th>\n",
       "      <th>50%</th>\n",
       "      <th>75%</th>\n",
       "      <th>max</th>\n",
       "    </tr>\n",
       "  </thead>\n",
       "  <tbody>\n",
       "    <tr>\n",
       "      <th>national_inv</th>\n",
       "      <td>100893.0</td>\n",
       "      <td>599.955507</td>\n",
       "      <td>8785.828101</td>\n",
       "      <td>-4573.0</td>\n",
       "      <td>4.00</td>\n",
       "      <td>22.00</td>\n",
       "      <td>113.00</td>\n",
       "      <td>917218.0</td>\n",
       "    </tr>\n",
       "    <tr>\n",
       "      <th>lead_time</th>\n",
       "      <td>100893.0</td>\n",
       "      <td>99999.000000</td>\n",
       "      <td>0.000000</td>\n",
       "      <td>99999.0</td>\n",
       "      <td>99999.00</td>\n",
       "      <td>99999.00</td>\n",
       "      <td>99999.00</td>\n",
       "      <td>99999.0</td>\n",
       "    </tr>\n",
       "    <tr>\n",
       "      <th>in_transit_qty</th>\n",
       "      <td>100893.0</td>\n",
       "      <td>21.670879</td>\n",
       "      <td>1787.484665</td>\n",
       "      <td>0.0</td>\n",
       "      <td>0.00</td>\n",
       "      <td>0.00</td>\n",
       "      <td>0.00</td>\n",
       "      <td>285365.0</td>\n",
       "    </tr>\n",
       "    <tr>\n",
       "      <th>forecast_3_month</th>\n",
       "      <td>100893.0</td>\n",
       "      <td>11.002894</td>\n",
       "      <td>338.081913</td>\n",
       "      <td>0.0</td>\n",
       "      <td>0.00</td>\n",
       "      <td>0.00</td>\n",
       "      <td>0.00</td>\n",
       "      <td>35792.0</td>\n",
       "    </tr>\n",
       "    <tr>\n",
       "      <th>forecast_6_month</th>\n",
       "      <td>100893.0</td>\n",
       "      <td>24.860258</td>\n",
       "      <td>747.502334</td>\n",
       "      <td>0.0</td>\n",
       "      <td>0.00</td>\n",
       "      <td>0.00</td>\n",
       "      <td>0.00</td>\n",
       "      <td>74986.0</td>\n",
       "    </tr>\n",
       "    <tr>\n",
       "      <th>forecast_9_month</th>\n",
       "      <td>100893.0</td>\n",
       "      <td>35.814338</td>\n",
       "      <td>1120.038314</td>\n",
       "      <td>0.0</td>\n",
       "      <td>0.00</td>\n",
       "      <td>0.00</td>\n",
       "      <td>0.00</td>\n",
       "      <td>112141.0</td>\n",
       "    </tr>\n",
       "    <tr>\n",
       "      <th>sales_1_month</th>\n",
       "      <td>100893.0</td>\n",
       "      <td>40.427582</td>\n",
       "      <td>2843.686242</td>\n",
       "      <td>0.0</td>\n",
       "      <td>0.00</td>\n",
       "      <td>0.00</td>\n",
       "      <td>1.00</td>\n",
       "      <td>361803.0</td>\n",
       "    </tr>\n",
       "    <tr>\n",
       "      <th>sales_3_month</th>\n",
       "      <td>100893.0</td>\n",
       "      <td>120.640530</td>\n",
       "      <td>7894.806084</td>\n",
       "      <td>0.0</td>\n",
       "      <td>0.00</td>\n",
       "      <td>0.00</td>\n",
       "      <td>4.00</td>\n",
       "      <td>1100523.0</td>\n",
       "    </tr>\n",
       "    <tr>\n",
       "      <th>sales_6_month</th>\n",
       "      <td>100893.0</td>\n",
       "      <td>176.524585</td>\n",
       "      <td>8503.945769</td>\n",
       "      <td>0.0</td>\n",
       "      <td>0.00</td>\n",
       "      <td>1.00</td>\n",
       "      <td>8.00</td>\n",
       "      <td>1309162.0</td>\n",
       "    </tr>\n",
       "    <tr>\n",
       "      <th>sales_9_month</th>\n",
       "      <td>100893.0</td>\n",
       "      <td>228.656547</td>\n",
       "      <td>8592.102577</td>\n",
       "      <td>0.0</td>\n",
       "      <td>0.00</td>\n",
       "      <td>1.00</td>\n",
       "      <td>13.00</td>\n",
       "      <td>1309162.0</td>\n",
       "    </tr>\n",
       "    <tr>\n",
       "      <th>min_bank</th>\n",
       "      <td>100893.0</td>\n",
       "      <td>45.985202</td>\n",
       "      <td>2579.056152</td>\n",
       "      <td>0.0</td>\n",
       "      <td>0.00</td>\n",
       "      <td>1.00</td>\n",
       "      <td>2.00</td>\n",
       "      <td>313319.0</td>\n",
       "    </tr>\n",
       "    <tr>\n",
       "      <th>potential_issue</th>\n",
       "      <td>100893.0</td>\n",
       "      <td>0.000050</td>\n",
       "      <td>0.007040</td>\n",
       "      <td>0.0</td>\n",
       "      <td>0.00</td>\n",
       "      <td>0.00</td>\n",
       "      <td>0.00</td>\n",
       "      <td>1.0</td>\n",
       "    </tr>\n",
       "    <tr>\n",
       "      <th>pieces_past_due</th>\n",
       "      <td>100893.0</td>\n",
       "      <td>0.015561</td>\n",
       "      <td>2.433645</td>\n",
       "      <td>0.0</td>\n",
       "      <td>0.00</td>\n",
       "      <td>0.00</td>\n",
       "      <td>0.00</td>\n",
       "      <td>573.0</td>\n",
       "    </tr>\n",
       "    <tr>\n",
       "      <th>perf_6_month_avg</th>\n",
       "      <td>100893.0</td>\n",
       "      <td>-99.000000</td>\n",
       "      <td>0.000000</td>\n",
       "      <td>-99.0</td>\n",
       "      <td>-99.00</td>\n",
       "      <td>-99.00</td>\n",
       "      <td>-99.00</td>\n",
       "      <td>-99.0</td>\n",
       "    </tr>\n",
       "    <tr>\n",
       "      <th>perf_12_month_avg</th>\n",
       "      <td>100893.0</td>\n",
       "      <td>-99.000000</td>\n",
       "      <td>0.000000</td>\n",
       "      <td>-99.0</td>\n",
       "      <td>-99.00</td>\n",
       "      <td>-99.00</td>\n",
       "      <td>-99.00</td>\n",
       "      <td>-99.0</td>\n",
       "    </tr>\n",
       "    <tr>\n",
       "      <th>local_bo_qty</th>\n",
       "      <td>100893.0</td>\n",
       "      <td>0.518391</td>\n",
       "      <td>37.895397</td>\n",
       "      <td>0.0</td>\n",
       "      <td>0.00</td>\n",
       "      <td>0.00</td>\n",
       "      <td>0.00</td>\n",
       "      <td>7048.0</td>\n",
       "    </tr>\n",
       "    <tr>\n",
       "      <th>deck_risk</th>\n",
       "      <td>100893.0</td>\n",
       "      <td>0.643513</td>\n",
       "      <td>0.478964</td>\n",
       "      <td>0.0</td>\n",
       "      <td>0.00</td>\n",
       "      <td>1.00</td>\n",
       "      <td>1.00</td>\n",
       "      <td>1.0</td>\n",
       "    </tr>\n",
       "    <tr>\n",
       "      <th>oe_constraint</th>\n",
       "      <td>100893.0</td>\n",
       "      <td>0.000000</td>\n",
       "      <td>0.000000</td>\n",
       "      <td>0.0</td>\n",
       "      <td>0.00</td>\n",
       "      <td>0.00</td>\n",
       "      <td>0.00</td>\n",
       "      <td>0.0</td>\n",
       "    </tr>\n",
       "    <tr>\n",
       "      <th>ppap_risk</th>\n",
       "      <td>100893.0</td>\n",
       "      <td>0.151527</td>\n",
       "      <td>0.358563</td>\n",
       "      <td>0.0</td>\n",
       "      <td>0.00</td>\n",
       "      <td>0.00</td>\n",
       "      <td>0.00</td>\n",
       "      <td>1.0</td>\n",
       "    </tr>\n",
       "    <tr>\n",
       "      <th>stop_auto_buy</th>\n",
       "      <td>100893.0</td>\n",
       "      <td>0.781997</td>\n",
       "      <td>0.412892</td>\n",
       "      <td>0.0</td>\n",
       "      <td>1.00</td>\n",
       "      <td>1.00</td>\n",
       "      <td>1.00</td>\n",
       "      <td>1.0</td>\n",
       "    </tr>\n",
       "    <tr>\n",
       "      <th>rev_stop</th>\n",
       "      <td>100893.0</td>\n",
       "      <td>0.003182</td>\n",
       "      <td>0.056316</td>\n",
       "      <td>0.0</td>\n",
       "      <td>0.00</td>\n",
       "      <td>0.00</td>\n",
       "      <td>0.00</td>\n",
       "      <td>1.0</td>\n",
       "    </tr>\n",
       "    <tr>\n",
       "      <th>went_on_backorder</th>\n",
       "      <td>100893.0</td>\n",
       "      <td>0.003211</td>\n",
       "      <td>0.056578</td>\n",
       "      <td>0.0</td>\n",
       "      <td>0.00</td>\n",
       "      <td>0.00</td>\n",
       "      <td>0.00</td>\n",
       "      <td>1.0</td>\n",
       "    </tr>\n",
       "    <tr>\n",
       "      <th>national_inv</th>\n",
       "      <td>1687860.0</td>\n",
       "      <td>496.111782</td>\n",
       "      <td>29615.233831</td>\n",
       "      <td>-27256.0</td>\n",
       "      <td>4.00</td>\n",
       "      <td>15.00</td>\n",
       "      <td>80.00</td>\n",
       "      <td>12334404.0</td>\n",
       "    </tr>\n",
       "    <tr>\n",
       "      <th>lead_time</th>\n",
       "      <td>1687860.0</td>\n",
       "      <td>5984.911151</td>\n",
       "      <td>23704.983535</td>\n",
       "      <td>0.0</td>\n",
       "      <td>4.00</td>\n",
       "      <td>8.00</td>\n",
       "      <td>9.00</td>\n",
       "      <td>99999.0</td>\n",
       "    </tr>\n",
       "    <tr>\n",
       "      <th>in_transit_qty</th>\n",
       "      <td>1687860.0</td>\n",
       "      <td>44.052022</td>\n",
       "      <td>1342.741731</td>\n",
       "      <td>0.0</td>\n",
       "      <td>0.00</td>\n",
       "      <td>0.00</td>\n",
       "      <td>0.00</td>\n",
       "      <td>489408.0</td>\n",
       "    </tr>\n",
       "    <tr>\n",
       "      <th>forecast_3_month</th>\n",
       "      <td>1687860.0</td>\n",
       "      <td>178.119284</td>\n",
       "      <td>5026.553102</td>\n",
       "      <td>0.0</td>\n",
       "      <td>0.00</td>\n",
       "      <td>0.00</td>\n",
       "      <td>4.00</td>\n",
       "      <td>1427612.0</td>\n",
       "    </tr>\n",
       "    <tr>\n",
       "      <th>forecast_6_month</th>\n",
       "      <td>1687860.0</td>\n",
       "      <td>344.986664</td>\n",
       "      <td>9795.151861</td>\n",
       "      <td>0.0</td>\n",
       "      <td>0.00</td>\n",
       "      <td>0.00</td>\n",
       "      <td>12.00</td>\n",
       "      <td>2461360.0</td>\n",
       "    </tr>\n",
       "    <tr>\n",
       "      <th>forecast_9_month</th>\n",
       "      <td>1687860.0</td>\n",
       "      <td>506.364431</td>\n",
       "      <td>14378.923562</td>\n",
       "      <td>0.0</td>\n",
       "      <td>0.00</td>\n",
       "      <td>0.00</td>\n",
       "      <td>20.00</td>\n",
       "      <td>3777304.0</td>\n",
       "    </tr>\n",
       "    <tr>\n",
       "      <th>sales_1_month</th>\n",
       "      <td>1687860.0</td>\n",
       "      <td>55.926069</td>\n",
       "      <td>1928.195879</td>\n",
       "      <td>0.0</td>\n",
       "      <td>0.00</td>\n",
       "      <td>0.00</td>\n",
       "      <td>4.00</td>\n",
       "      <td>741774.0</td>\n",
       "    </tr>\n",
       "    <tr>\n",
       "      <th>sales_3_month</th>\n",
       "      <td>1687860.0</td>\n",
       "      <td>175.025930</td>\n",
       "      <td>5192.377625</td>\n",
       "      <td>0.0</td>\n",
       "      <td>0.00</td>\n",
       "      <td>1.00</td>\n",
       "      <td>15.00</td>\n",
       "      <td>1105478.0</td>\n",
       "    </tr>\n",
       "    <tr>\n",
       "      <th>sales_6_month</th>\n",
       "      <td>1687860.0</td>\n",
       "      <td>341.728839</td>\n",
       "      <td>9613.167104</td>\n",
       "      <td>0.0</td>\n",
       "      <td>0.00</td>\n",
       "      <td>2.00</td>\n",
       "      <td>31.00</td>\n",
       "      <td>2146625.0</td>\n",
       "    </tr>\n",
       "    <tr>\n",
       "      <th>sales_9_month</th>\n",
       "      <td>1687860.0</td>\n",
       "      <td>525.269701</td>\n",
       "      <td>14838.613523</td>\n",
       "      <td>0.0</td>\n",
       "      <td>0.00</td>\n",
       "      <td>4.00</td>\n",
       "      <td>47.00</td>\n",
       "      <td>3205172.0</td>\n",
       "    </tr>\n",
       "    <tr>\n",
       "      <th>min_bank</th>\n",
       "      <td>1687860.0</td>\n",
       "      <td>52.772303</td>\n",
       "      <td>1254.983089</td>\n",
       "      <td>0.0</td>\n",
       "      <td>0.00</td>\n",
       "      <td>0.00</td>\n",
       "      <td>3.00</td>\n",
       "      <td>313319.0</td>\n",
       "    </tr>\n",
       "    <tr>\n",
       "      <th>potential_issue</th>\n",
       "      <td>1687860.0</td>\n",
       "      <td>0.000537</td>\n",
       "      <td>0.023175</td>\n",
       "      <td>0.0</td>\n",
       "      <td>0.00</td>\n",
       "      <td>0.00</td>\n",
       "      <td>0.00</td>\n",
       "      <td>1.0</td>\n",
       "    </tr>\n",
       "    <tr>\n",
       "      <th>pieces_past_due</th>\n",
       "      <td>1687860.0</td>\n",
       "      <td>2.043724</td>\n",
       "      <td>236.016500</td>\n",
       "      <td>0.0</td>\n",
       "      <td>0.00</td>\n",
       "      <td>0.00</td>\n",
       "      <td>0.00</td>\n",
       "      <td>146496.0</td>\n",
       "    </tr>\n",
       "    <tr>\n",
       "      <th>perf_6_month_avg</th>\n",
       "      <td>1687860.0</td>\n",
       "      <td>-6.872059</td>\n",
       "      <td>26.556357</td>\n",
       "      <td>-99.0</td>\n",
       "      <td>0.63</td>\n",
       "      <td>0.82</td>\n",
       "      <td>0.97</td>\n",
       "      <td>1.0</td>\n",
       "    </tr>\n",
       "    <tr>\n",
       "      <th>perf_12_month_avg</th>\n",
       "      <td>1687860.0</td>\n",
       "      <td>-6.437947</td>\n",
       "      <td>25.843331</td>\n",
       "      <td>-99.0</td>\n",
       "      <td>0.66</td>\n",
       "      <td>0.81</td>\n",
       "      <td>0.95</td>\n",
       "      <td>1.0</td>\n",
       "    </tr>\n",
       "    <tr>\n",
       "      <th>local_bo_qty</th>\n",
       "      <td>1687860.0</td>\n",
       "      <td>0.626451</td>\n",
       "      <td>33.722242</td>\n",
       "      <td>0.0</td>\n",
       "      <td>0.00</td>\n",
       "      <td>0.00</td>\n",
       "      <td>0.00</td>\n",
       "      <td>12530.0</td>\n",
       "    </tr>\n",
       "    <tr>\n",
       "      <th>deck_risk</th>\n",
       "      <td>1687860.0</td>\n",
       "      <td>0.229571</td>\n",
       "      <td>0.420557</td>\n",
       "      <td>0.0</td>\n",
       "      <td>0.00</td>\n",
       "      <td>0.00</td>\n",
       "      <td>0.00</td>\n",
       "      <td>1.0</td>\n",
       "    </tr>\n",
       "    <tr>\n",
       "      <th>oe_constraint</th>\n",
       "      <td>1687860.0</td>\n",
       "      <td>0.000145</td>\n",
       "      <td>0.012047</td>\n",
       "      <td>0.0</td>\n",
       "      <td>0.00</td>\n",
       "      <td>0.00</td>\n",
       "      <td>0.00</td>\n",
       "      <td>1.0</td>\n",
       "    </tr>\n",
       "    <tr>\n",
       "      <th>ppap_risk</th>\n",
       "      <td>1687860.0</td>\n",
       "      <td>0.120765</td>\n",
       "      <td>0.325854</td>\n",
       "      <td>0.0</td>\n",
       "      <td>0.00</td>\n",
       "      <td>0.00</td>\n",
       "      <td>0.00</td>\n",
       "      <td>1.0</td>\n",
       "    </tr>\n",
       "    <tr>\n",
       "      <th>stop_auto_buy</th>\n",
       "      <td>1687860.0</td>\n",
       "      <td>0.963809</td>\n",
       "      <td>0.186766</td>\n",
       "      <td>0.0</td>\n",
       "      <td>1.00</td>\n",
       "      <td>1.00</td>\n",
       "      <td>1.00</td>\n",
       "      <td>1.0</td>\n",
       "    </tr>\n",
       "    <tr>\n",
       "      <th>rev_stop</th>\n",
       "      <td>1687860.0</td>\n",
       "      <td>0.000433</td>\n",
       "      <td>0.020806</td>\n",
       "      <td>0.0</td>\n",
       "      <td>0.00</td>\n",
       "      <td>0.00</td>\n",
       "      <td>0.00</td>\n",
       "      <td>1.0</td>\n",
       "    </tr>\n",
       "    <tr>\n",
       "      <th>went_on_backorder</th>\n",
       "      <td>1687860.0</td>\n",
       "      <td>0.006691</td>\n",
       "      <td>0.081523</td>\n",
       "      <td>0.0</td>\n",
       "      <td>0.00</td>\n",
       "      <td>0.00</td>\n",
       "      <td>0.00</td>\n",
       "      <td>1.0</td>\n",
       "    </tr>\n",
       "  </tbody>\n",
       "</table>\n",
       "</div>"
      ],
      "text/plain": [
       "                       count          mean           std      min       25%  \\\n",
       "national_inv        100893.0    599.955507   8785.828101  -4573.0      4.00   \n",
       "lead_time           100893.0  99999.000000      0.000000  99999.0  99999.00   \n",
       "in_transit_qty      100893.0     21.670879   1787.484665      0.0      0.00   \n",
       "forecast_3_month    100893.0     11.002894    338.081913      0.0      0.00   \n",
       "forecast_6_month    100893.0     24.860258    747.502334      0.0      0.00   \n",
       "forecast_9_month    100893.0     35.814338   1120.038314      0.0      0.00   \n",
       "sales_1_month       100893.0     40.427582   2843.686242      0.0      0.00   \n",
       "sales_3_month       100893.0    120.640530   7894.806084      0.0      0.00   \n",
       "sales_6_month       100893.0    176.524585   8503.945769      0.0      0.00   \n",
       "sales_9_month       100893.0    228.656547   8592.102577      0.0      0.00   \n",
       "min_bank            100893.0     45.985202   2579.056152      0.0      0.00   \n",
       "potential_issue     100893.0      0.000050      0.007040      0.0      0.00   \n",
       "pieces_past_due     100893.0      0.015561      2.433645      0.0      0.00   \n",
       "perf_6_month_avg    100893.0    -99.000000      0.000000    -99.0    -99.00   \n",
       "perf_12_month_avg   100893.0    -99.000000      0.000000    -99.0    -99.00   \n",
       "local_bo_qty        100893.0      0.518391     37.895397      0.0      0.00   \n",
       "deck_risk           100893.0      0.643513      0.478964      0.0      0.00   \n",
       "oe_constraint       100893.0      0.000000      0.000000      0.0      0.00   \n",
       "ppap_risk           100893.0      0.151527      0.358563      0.0      0.00   \n",
       "stop_auto_buy       100893.0      0.781997      0.412892      0.0      1.00   \n",
       "rev_stop            100893.0      0.003182      0.056316      0.0      0.00   \n",
       "went_on_backorder   100893.0      0.003211      0.056578      0.0      0.00   \n",
       "national_inv       1687860.0    496.111782  29615.233831 -27256.0      4.00   \n",
       "lead_time          1687860.0   5984.911151  23704.983535      0.0      4.00   \n",
       "in_transit_qty     1687860.0     44.052022   1342.741731      0.0      0.00   \n",
       "forecast_3_month   1687860.0    178.119284   5026.553102      0.0      0.00   \n",
       "forecast_6_month   1687860.0    344.986664   9795.151861      0.0      0.00   \n",
       "forecast_9_month   1687860.0    506.364431  14378.923562      0.0      0.00   \n",
       "sales_1_month      1687860.0     55.926069   1928.195879      0.0      0.00   \n",
       "sales_3_month      1687860.0    175.025930   5192.377625      0.0      0.00   \n",
       "sales_6_month      1687860.0    341.728839   9613.167104      0.0      0.00   \n",
       "sales_9_month      1687860.0    525.269701  14838.613523      0.0      0.00   \n",
       "min_bank           1687860.0     52.772303   1254.983089      0.0      0.00   \n",
       "potential_issue    1687860.0      0.000537      0.023175      0.0      0.00   \n",
       "pieces_past_due    1687860.0      2.043724    236.016500      0.0      0.00   \n",
       "perf_6_month_avg   1687860.0     -6.872059     26.556357    -99.0      0.63   \n",
       "perf_12_month_avg  1687860.0     -6.437947     25.843331    -99.0      0.66   \n",
       "local_bo_qty       1687860.0      0.626451     33.722242      0.0      0.00   \n",
       "deck_risk          1687860.0      0.229571      0.420557      0.0      0.00   \n",
       "oe_constraint      1687860.0      0.000145      0.012047      0.0      0.00   \n",
       "ppap_risk          1687860.0      0.120765      0.325854      0.0      0.00   \n",
       "stop_auto_buy      1687860.0      0.963809      0.186766      0.0      1.00   \n",
       "rev_stop           1687860.0      0.000433      0.020806      0.0      0.00   \n",
       "went_on_backorder  1687860.0      0.006691      0.081523      0.0      0.00   \n",
       "\n",
       "                        50%       75%         max  \n",
       "national_inv          22.00    113.00    917218.0  \n",
       "lead_time          99999.00  99999.00     99999.0  \n",
       "in_transit_qty         0.00      0.00    285365.0  \n",
       "forecast_3_month       0.00      0.00     35792.0  \n",
       "forecast_6_month       0.00      0.00     74986.0  \n",
       "forecast_9_month       0.00      0.00    112141.0  \n",
       "sales_1_month          0.00      1.00    361803.0  \n",
       "sales_3_month          0.00      4.00   1100523.0  \n",
       "sales_6_month          1.00      8.00   1309162.0  \n",
       "sales_9_month          1.00     13.00   1309162.0  \n",
       "min_bank               1.00      2.00    313319.0  \n",
       "potential_issue        0.00      0.00         1.0  \n",
       "pieces_past_due        0.00      0.00       573.0  \n",
       "perf_6_month_avg     -99.00    -99.00       -99.0  \n",
       "perf_12_month_avg    -99.00    -99.00       -99.0  \n",
       "local_bo_qty           0.00      0.00      7048.0  \n",
       "deck_risk              1.00      1.00         1.0  \n",
       "oe_constraint          0.00      0.00         0.0  \n",
       "ppap_risk              0.00      0.00         1.0  \n",
       "stop_auto_buy          1.00      1.00         1.0  \n",
       "rev_stop               0.00      0.00         1.0  \n",
       "went_on_backorder      0.00      0.00         1.0  \n",
       "national_inv          15.00     80.00  12334404.0  \n",
       "lead_time              8.00      9.00     99999.0  \n",
       "in_transit_qty         0.00      0.00    489408.0  \n",
       "forecast_3_month       0.00      4.00   1427612.0  \n",
       "forecast_6_month       0.00     12.00   2461360.0  \n",
       "forecast_9_month       0.00     20.00   3777304.0  \n",
       "sales_1_month          0.00      4.00    741774.0  \n",
       "sales_3_month          1.00     15.00   1105478.0  \n",
       "sales_6_month          2.00     31.00   2146625.0  \n",
       "sales_9_month          4.00     47.00   3205172.0  \n",
       "min_bank               0.00      3.00    313319.0  \n",
       "potential_issue        0.00      0.00         1.0  \n",
       "pieces_past_due        0.00      0.00    146496.0  \n",
       "perf_6_month_avg       0.82      0.97         1.0  \n",
       "perf_12_month_avg      0.81      0.95         1.0  \n",
       "local_bo_qty           0.00      0.00     12530.0  \n",
       "deck_risk              0.00      0.00         1.0  \n",
       "oe_constraint          0.00      0.00         1.0  \n",
       "ppap_risk              0.00      0.00         1.0  \n",
       "stop_auto_buy          1.00      1.00         1.0  \n",
       "rev_stop               0.00      0.00         1.0  \n",
       "went_on_backorder      0.00      0.00         1.0  "
      ]
     },
     "execution_count": 30,
     "metadata": {},
     "output_type": "execute_result"
    }
   ],
   "source": [
    "pd.concat([train.loc[(train.lead_time==99999)].describe().T,train.describe().T],axis=0)"
   ]
  },
  {
   "cell_type": "markdown",
   "metadata": {},
   "source": [
    "# Let's do some plotting to understand linear relations"
   ]
  },
  {
   "cell_type": "code",
   "execution_count": 9,
   "metadata": {},
   "outputs": [],
   "source": [
    "train_full=train.loc[(train.lead_time!=99999)]"
   ]
  },
  {
   "cell_type": "code",
   "execution_count": 27,
   "metadata": {},
   "outputs": [
    {
     "data": {
      "image/png": "[encoded data removed]",
      "text/plain": [
       "<Figure size 1080x1080 with 9 Axes>"
      ]
     },
     "metadata": {
      "needs_background": "light"
     },
     "output_type": "display_data"
    }
   ],
   "source": [
    "g = sns.PairGrid(train_full, vars=[\"went_on_backorder\",\"forecast_3_month\",\"local_bo_qty\"],height=5)\n",
    "g = g.map(plt.scatter)"
   ]
  },
  {
   "cell_type": "markdown",
   "metadata": {},
   "source": [
    "# Just to clarify the relation between `lead_time`and `perf_12_month_avg`..."
   ]
  },
  {
   "cell_type": "code",
   "execution_count": 20,
   "metadata": {},
   "outputs": [
    {
     "data": {
      "text/plain": [
       "count    100893.0\n",
       "mean        -99.0\n",
       "std           0.0\n",
       "min         -99.0\n",
       "25%         -99.0\n",
       "50%         -99.0\n",
       "75%         -99.0\n",
       "max         -99.0\n",
       "Name: perf_12_month_avg, dtype: float64"
      ]
     },
     "execution_count": 20,
     "metadata": {},
     "output_type": "execute_result"
    }
   ],
   "source": [
    "train.loc[(train.lead_time==99999)]['perf_12_month_avg'].describe()"
   ]
  },
  {
   "cell_type": "code",
   "execution_count": 21,
   "metadata": {},
   "outputs": [
    {
     "data": {
      "text/plain": [
       "count    100893.0\n",
       "mean        -99.0\n",
       "std           0.0\n",
       "min         -99.0\n",
       "25%         -99.0\n",
       "50%         -99.0\n",
       "75%         -99.0\n",
       "max         -99.0\n",
       "Name: perf_6_month_avg, dtype: float64"
      ]
     },
     "execution_count": 21,
     "metadata": {},
     "output_type": "execute_result"
    }
   ],
   "source": [
    "train.loc[(train.lead_time==99999)]['perf_6_month_avg'].describe()"
   ]
  },
  {
   "cell_type": "code",
   "execution_count": 22,
   "metadata": {},
   "outputs": [
    {
     "data": {
      "text/html": [
       "<div>\n",
       "<style scoped>\n",
       "    .dataframe tbody tr th:only-of-type {\n",
       "        vertical-align: middle;\n",
       "    }\n",
       "\n",
       "    .dataframe tbody tr th {\n",
       "        vertical-align: top;\n",
       "    }\n",
       "\n",
       "    .dataframe thead th {\n",
       "        text-align: right;\n",
       "    }\n",
       "</style>\n",
       "<table border=\"1\" class=\"dataframe\">\n",
       "  <thead>\n",
       "    <tr style=\"text-align: right;\">\n",
       "      <th></th>\n",
       "      <th>national_inv</th>\n",
       "      <th>lead_time</th>\n",
       "      <th>in_transit_qty</th>\n",
       "      <th>forecast_3_month</th>\n",
       "      <th>forecast_6_month</th>\n",
       "      <th>forecast_9_month</th>\n",
       "      <th>sales_1_month</th>\n",
       "      <th>sales_3_month</th>\n",
       "      <th>sales_6_month</th>\n",
       "      <th>sales_9_month</th>\n",
       "      <th>...</th>\n",
       "      <th>pieces_past_due</th>\n",
       "      <th>perf_6_month_avg</th>\n",
       "      <th>perf_12_month_avg</th>\n",
       "      <th>local_bo_qty</th>\n",
       "      <th>deck_risk</th>\n",
       "      <th>oe_constraint</th>\n",
       "      <th>ppap_risk</th>\n",
       "      <th>stop_auto_buy</th>\n",
       "      <th>rev_stop</th>\n",
       "      <th>went_on_backorder</th>\n",
       "    </tr>\n",
       "  </thead>\n",
       "  <tbody>\n",
       "    <tr>\n",
       "      <th>count</th>\n",
       "      <td>1.220500e+05</td>\n",
       "      <td>122050.000000</td>\n",
       "      <td>122050.000000</td>\n",
       "      <td>122050.000000</td>\n",
       "      <td>122050.000000</td>\n",
       "      <td>122050.000000</td>\n",
       "      <td>122050.000000</td>\n",
       "      <td>1.220500e+05</td>\n",
       "      <td>1.220500e+05</td>\n",
       "      <td>1.220500e+05</td>\n",
       "      <td>...</td>\n",
       "      <td>122050.000000</td>\n",
       "      <td>122050.0</td>\n",
       "      <td>122050.0</td>\n",
       "      <td>122050.000000</td>\n",
       "      <td>122050.000000</td>\n",
       "      <td>122050.0</td>\n",
       "      <td>122050.000000</td>\n",
       "      <td>122050.000000</td>\n",
       "      <td>122050.000000</td>\n",
       "      <td>122050.000000</td>\n",
       "    </tr>\n",
       "    <tr>\n",
       "      <th>mean</th>\n",
       "      <td>1.636418e+03</td>\n",
       "      <td>82666.953322</td>\n",
       "      <td>23.475576</td>\n",
       "      <td>22.102548</td>\n",
       "      <td>47.902048</td>\n",
       "      <td>74.330938</td>\n",
       "      <td>39.681114</td>\n",
       "      <td>1.226032e+02</td>\n",
       "      <td>1.969761e+02</td>\n",
       "      <td>2.739185e+02</td>\n",
       "      <td>...</td>\n",
       "      <td>0.501975</td>\n",
       "      <td>-99.0</td>\n",
       "      <td>-99.0</td>\n",
       "      <td>0.460279</td>\n",
       "      <td>0.586071</td>\n",
       "      <td>0.0</td>\n",
       "      <td>0.164924</td>\n",
       "      <td>0.800287</td>\n",
       "      <td>0.002966</td>\n",
       "      <td>0.003236</td>\n",
       "    </tr>\n",
       "    <tr>\n",
       "      <th>std</th>\n",
       "      <td>9.475251e+04</td>\n",
       "      <td>37849.061203</td>\n",
       "      <td>1644.574213</td>\n",
       "      <td>471.413144</td>\n",
       "      <td>1111.629403</td>\n",
       "      <td>1986.319458</td>\n",
       "      <td>2613.379596</td>\n",
       "      <td>7.338754e+03</td>\n",
       "      <td>8.632413e+03</td>\n",
       "      <td>1.028149e+04</td>\n",
       "      <td>...</td>\n",
       "      <td>73.857743</td>\n",
       "      <td>0.0</td>\n",
       "      <td>0.0</td>\n",
       "      <td>34.595405</td>\n",
       "      <td>0.492538</td>\n",
       "      <td>0.0</td>\n",
       "      <td>0.371114</td>\n",
       "      <td>0.399786</td>\n",
       "      <td>0.054380</td>\n",
       "      <td>0.056797</td>\n",
       "    </tr>\n",
       "    <tr>\n",
       "      <th>min</th>\n",
       "      <td>-4.573000e+03</td>\n",
       "      <td>0.000000</td>\n",
       "      <td>0.000000</td>\n",
       "      <td>0.000000</td>\n",
       "      <td>0.000000</td>\n",
       "      <td>0.000000</td>\n",
       "      <td>0.000000</td>\n",
       "      <td>0.000000e+00</td>\n",
       "      <td>0.000000e+00</td>\n",
       "      <td>0.000000e+00</td>\n",
       "      <td>...</td>\n",
       "      <td>0.000000</td>\n",
       "      <td>-99.0</td>\n",
       "      <td>-99.0</td>\n",
       "      <td>0.000000</td>\n",
       "      <td>0.000000</td>\n",
       "      <td>0.0</td>\n",
       "      <td>0.000000</td>\n",
       "      <td>0.000000</td>\n",
       "      <td>0.000000</td>\n",
       "      <td>0.000000</td>\n",
       "    </tr>\n",
       "    <tr>\n",
       "      <th>25%</th>\n",
       "      <td>4.000000e+00</td>\n",
       "      <td>99999.000000</td>\n",
       "      <td>0.000000</td>\n",
       "      <td>0.000000</td>\n",
       "      <td>0.000000</td>\n",
       "      <td>0.000000</td>\n",
       "      <td>0.000000</td>\n",
       "      <td>0.000000e+00</td>\n",
       "      <td>0.000000e+00</td>\n",
       "      <td>0.000000e+00</td>\n",
       "      <td>...</td>\n",
       "      <td>0.000000</td>\n",
       "      <td>-99.0</td>\n",
       "      <td>-99.0</td>\n",
       "      <td>0.000000</td>\n",
       "      <td>0.000000</td>\n",
       "      <td>0.0</td>\n",
       "      <td>0.000000</td>\n",
       "      <td>1.000000</td>\n",
       "      <td>0.000000</td>\n",
       "      <td>0.000000</td>\n",
       "    </tr>\n",
       "    <tr>\n",
       "      <th>50%</th>\n",
       "      <td>2.500000e+01</td>\n",
       "      <td>99999.000000</td>\n",
       "      <td>0.000000</td>\n",
       "      <td>0.000000</td>\n",
       "      <td>0.000000</td>\n",
       "      <td>0.000000</td>\n",
       "      <td>0.000000</td>\n",
       "      <td>0.000000e+00</td>\n",
       "      <td>1.000000e+00</td>\n",
       "      <td>1.000000e+00</td>\n",
       "      <td>...</td>\n",
       "      <td>0.000000</td>\n",
       "      <td>-99.0</td>\n",
       "      <td>-99.0</td>\n",
       "      <td>0.000000</td>\n",
       "      <td>1.000000</td>\n",
       "      <td>0.0</td>\n",
       "      <td>0.000000</td>\n",
       "      <td>1.000000</td>\n",
       "      <td>0.000000</td>\n",
       "      <td>0.000000</td>\n",
       "    </tr>\n",
       "    <tr>\n",
       "      <th>75%</th>\n",
       "      <td>1.370000e+02</td>\n",
       "      <td>99999.000000</td>\n",
       "      <td>0.000000</td>\n",
       "      <td>0.000000</td>\n",
       "      <td>0.000000</td>\n",
       "      <td>0.000000</td>\n",
       "      <td>1.000000</td>\n",
       "      <td>4.000000e+00</td>\n",
       "      <td>9.000000e+00</td>\n",
       "      <td>1.300000e+01</td>\n",
       "      <td>...</td>\n",
       "      <td>0.000000</td>\n",
       "      <td>-99.0</td>\n",
       "      <td>-99.0</td>\n",
       "      <td>0.000000</td>\n",
       "      <td>1.000000</td>\n",
       "      <td>0.0</td>\n",
       "      <td>0.000000</td>\n",
       "      <td>1.000000</td>\n",
       "      <td>0.000000</td>\n",
       "      <td>0.000000</td>\n",
       "    </tr>\n",
       "    <tr>\n",
       "      <th>max</th>\n",
       "      <td>1.233440e+07</td>\n",
       "      <td>99999.000000</td>\n",
       "      <td>285365.000000</td>\n",
       "      <td>38748.000000</td>\n",
       "      <td>104400.000000</td>\n",
       "      <td>226200.000000</td>\n",
       "      <td>361803.000000</td>\n",
       "      <td>1.100523e+06</td>\n",
       "      <td>1.309162e+06</td>\n",
       "      <td>1.309162e+06</td>\n",
       "      <td>...</td>\n",
       "      <td>25000.000000</td>\n",
       "      <td>-99.0</td>\n",
       "      <td>-99.0</td>\n",
       "      <td>7048.000000</td>\n",
       "      <td>1.000000</td>\n",
       "      <td>0.0</td>\n",
       "      <td>1.000000</td>\n",
       "      <td>1.000000</td>\n",
       "      <td>1.000000</td>\n",
       "      <td>1.000000</td>\n",
       "    </tr>\n",
       "  </tbody>\n",
       "</table>\n",
       "<p>8 rows × 22 columns</p>\n",
       "</div>"
      ],
      "text/plain": [
       "       national_inv      lead_time  in_transit_qty  forecast_3_month  \\\n",
       "count  1.220500e+05  122050.000000   122050.000000     122050.000000   \n",
       "mean   1.636418e+03   82666.953322       23.475576         22.102548   \n",
       "std    9.475251e+04   37849.061203     1644.574213        471.413144   \n",
       "min   -4.573000e+03       0.000000        0.000000          0.000000   \n",
       "25%    4.000000e+00   99999.000000        0.000000          0.000000   \n",
       "50%    2.500000e+01   99999.000000        0.000000          0.000000   \n",
       "75%    1.370000e+02   99999.000000        0.000000          0.000000   \n",
       "max    1.233440e+07   99999.000000   285365.000000      38748.000000   \n",
       "\n",
       "       forecast_6_month  forecast_9_month  sales_1_month  sales_3_month  \\\n",
       "count     122050.000000     122050.000000  122050.000000   1.220500e+05   \n",
       "mean          47.902048         74.330938      39.681114   1.226032e+02   \n",
       "std         1111.629403       1986.319458    2613.379596   7.338754e+03   \n",
       "min            0.000000          0.000000       0.000000   0.000000e+00   \n",
       "25%            0.000000          0.000000       0.000000   0.000000e+00   \n",
       "50%            0.000000          0.000000       0.000000   0.000000e+00   \n",
       "75%            0.000000          0.000000       1.000000   4.000000e+00   \n",
       "max       104400.000000     226200.000000  361803.000000   1.100523e+06   \n",
       "\n",
       "       sales_6_month  sales_9_month        ...          pieces_past_due  \\\n",
       "count   1.220500e+05   1.220500e+05        ...            122050.000000   \n",
       "mean    1.969761e+02   2.739185e+02        ...                 0.501975   \n",
       "std     8.632413e+03   1.028149e+04        ...                73.857743   \n",
       "min     0.000000e+00   0.000000e+00        ...                 0.000000   \n",
       "25%     0.000000e+00   0.000000e+00        ...                 0.000000   \n",
       "50%     1.000000e+00   1.000000e+00        ...                 0.000000   \n",
       "75%     9.000000e+00   1.300000e+01        ...                 0.000000   \n",
       "max     1.309162e+06   1.309162e+06        ...             25000.000000   \n",
       "\n",
       "       perf_6_month_avg  perf_12_month_avg   local_bo_qty      deck_risk  \\\n",
       "count          122050.0           122050.0  122050.000000  122050.000000   \n",
       "mean              -99.0              -99.0       0.460279       0.586071   \n",
       "std                 0.0                0.0      34.595405       0.492538   \n",
       "min               -99.0              -99.0       0.000000       0.000000   \n",
       "25%               -99.0              -99.0       0.000000       0.000000   \n",
       "50%               -99.0              -99.0       0.000000       1.000000   \n",
       "75%               -99.0              -99.0       0.000000       1.000000   \n",
       "max               -99.0              -99.0    7048.000000       1.000000   \n",
       "\n",
       "       oe_constraint      ppap_risk  stop_auto_buy       rev_stop  \\\n",
       "count       122050.0  122050.000000  122050.000000  122050.000000   \n",
       "mean             0.0       0.164924       0.800287       0.002966   \n",
       "std              0.0       0.371114       0.399786       0.054380   \n",
       "min              0.0       0.000000       0.000000       0.000000   \n",
       "25%              0.0       0.000000       1.000000       0.000000   \n",
       "50%              0.0       0.000000       1.000000       0.000000   \n",
       "75%              0.0       0.000000       1.000000       0.000000   \n",
       "max              0.0       1.000000       1.000000       1.000000   \n",
       "\n",
       "       went_on_backorder  \n",
       "count      122050.000000  \n",
       "mean            0.003236  \n",
       "std             0.056797  \n",
       "min             0.000000  \n",
       "25%             0.000000  \n",
       "50%             0.000000  \n",
       "75%             0.000000  \n",
       "max             1.000000  \n",
       "\n",
       "[8 rows x 22 columns]"
      ]
     },
     "execution_count": 22,
     "metadata": {},
     "output_type": "execute_result"
    }
   ],
   "source": [
    "train.loc[(train.perf_12_month_avg==-99)].describe()"
   ]
  },
  {
   "cell_type": "code",
   "execution_count": 10,
   "metadata": {},
   "outputs": [
    {
     "data": {
      "text/plain": [
       "21157"
      ]
     },
     "execution_count": 10,
     "metadata": {},
     "output_type": "execute_result"
    }
   ],
   "source": [
    "train.sku.loc[(train.perf_12_month_avg==-99) & (train.lead_time<99999)].count()"
   ]
  },
  {
   "cell_type": "code",
   "execution_count": 11,
   "metadata": {},
   "outputs": [
    {
     "data": {
      "text/plain": [
       "28585"
      ]
     },
     "execution_count": 11,
     "metadata": {},
     "output_type": "execute_result"
    }
   ],
   "source": [
    "train.sku.loc[(train.perf_6_month_avg==-99) & (train.lead_time<99999)].count()"
   ]
  },
  {
   "cell_type": "markdown",
   "metadata": {},
   "source": [
    "# EXP 1: Trying out SMOTE on a Random forest regressor"
   ]
  },
  {
   "cell_type": "code",
   "execution_count": 25,
   "metadata": {},
   "outputs": [
    {
     "data": {
      "text/plain": [
       "sku                   object\n",
       "national_inv         float64\n",
       "lead_time            float64\n",
       "in_transit_qty       float64\n",
       "forecast_3_month     float64\n",
       "forecast_6_month     float64\n",
       "forecast_9_month     float64\n",
       "sales_1_month        float64\n",
       "sales_3_month        float64\n",
       "sales_6_month        float64\n",
       "sales_9_month        float64\n",
       "min_bank             float64\n",
       "potential_issue        int64\n",
       "pieces_past_due      float64\n",
       "perf_6_month_avg     float64\n",
       "perf_12_month_avg    float64\n",
       "local_bo_qty         float64\n",
       "deck_risk              int64\n",
       "oe_constraint          int64\n",
       "ppap_risk              int64\n",
       "stop_auto_buy          int64\n",
       "rev_stop               int64\n",
       "went_on_backorder      int64\n",
       "bo_cat                object\n",
       "dtype: object"
      ]
     },
     "execution_count": 25,
     "metadata": {},
     "output_type": "execute_result"
    }
   ],
   "source": [
    "train_full.dtypes"
   ]
  },
  {
   "cell_type": "code",
   "execution_count": 20,
   "metadata": {},
   "outputs": [],
   "source": [
    "feats=train_full[['national_inv',\n",
    "                 'lead_time',\n",
    "                 'in_transit_qty',\n",
    "                 'forecast_3_month',\n",
    "                 'sales_6_month',\n",
    "                 'min_bank',\n",
    "                 'potential_issue',\n",
    "                 'pieces_past_due',\n",
    "                'perf_6_month_avg',\n",
    "                'local_bo_qty']]"
   ]
  },
  {
   "cell_type": "code",
   "execution_count": 21,
   "metadata": {},
   "outputs": [],
   "source": [
    "target=train_full.went_on_backorder"
   ]
  },
  {
   "cell_type": "markdown",
   "metadata": {},
   "source": [
    " - we need to standardize our variables before applying SMOTE, and it will be easier to do so before "
   ]
  },
  {
   "cell_type": "code",
   "execution_count": 35,
   "metadata": {},
   "outputs": [],
   "source": [
    "names = feats.columns\n",
    "normalized_feats = preprocessing.normalize(feats)\n",
    "feats = pd.DataFrame(normalized_feats, columns=names)"
   ]
  },
  {
   "cell_type": "code",
   "execution_count": 14,
   "metadata": {},
   "outputs": [],
   "source": [
    "X_train, X_test, y_train, y_test = train_test_split(feats, target, random_state=0, test_size=0.25)"
   ]
  },
  {
   "cell_type": "code",
   "execution_count": 58,
   "metadata": {},
   "outputs": [
    {
     "data": {
      "text/plain": [
       "0.0069247411203764"
      ]
     },
     "execution_count": 58,
     "metadata": {},
     "output_type": "execute_result"
    }
   ],
   "source": [
    "y_train[y_train==1].count()/y_train.count()"
   ]
  },
  {
   "cell_type": "code",
   "execution_count": 62,
   "metadata": {},
   "outputs": [
    {
     "data": {
      "text/plain": [
       "0.006690720794378681"
      ]
     },
     "execution_count": 62,
     "metadata": {},
     "output_type": "execute_result"
    }
   ],
   "source": [
    "train.sku[train.went_on_backorder==1].count()/train.sku.count()"
   ]
  },
  {
   "cell_type": "code",
   "execution_count": 15,
   "metadata": {},
   "outputs": [],
   "source": [
    "sm = SMOTE(ratio=0.3, random_state=10)"
   ]
  },
  {
   "cell_type": "code",
   "execution_count": 16,
   "metadata": {},
   "outputs": [],
   "source": [
    "X_train_res, y_train_res = sm.fit_sample(X_train, y_train)"
   ]
  },
  {
   "cell_type": "code",
   "execution_count": 96,
   "metadata": {},
   "outputs": [
    {
     "data": {
      "text/plain": [
       "0    1181983\n",
       "1     354594\n",
       "dtype: int64"
      ]
     },
     "execution_count": 96,
     "metadata": {},
     "output_type": "execute_result"
    }
   ],
   "source": [
    "pd.Series(y_train_res).value_counts()"
   ]
  },
  {
   "cell_type": "code",
   "execution_count": 17,
   "metadata": {},
   "outputs": [],
   "source": [
    "clf = RandomForestClassifier(n_estimators=100, max_depth=10,random_state=0)"
   ]
  },
  {
   "cell_type": "code",
   "execution_count": 18,
   "metadata": {},
   "outputs": [
    {
     "name": "stdout",
     "output_type": "stream",
     "text": [
      "Wall time: 13min 21s\n"
     ]
    },
    {
     "data": {
      "text/plain": [
       "RandomForestClassifier(bootstrap=True, class_weight=None, criterion='gini',\n",
       "            max_depth=10, max_features='auto', max_leaf_nodes=None,\n",
       "            min_impurity_decrease=0.0, min_impurity_split=None,\n",
       "            min_samples_leaf=1, min_samples_split=2,\n",
       "            min_weight_fraction_leaf=0.0, n_estimators=100, n_jobs=None,\n",
       "            oob_score=False, random_state=0, verbose=0, warm_start=False)"
      ]
     },
     "execution_count": 18,
     "metadata": {},
     "output_type": "execute_result"
    }
   ],
   "source": [
    "%time clf.fit(X_train_res, y_train_res)"
   ]
  },
  {
   "cell_type": "code",
   "execution_count": 19,
   "metadata": {},
   "outputs": [],
   "source": [
    "preds = clf.predict(X_test)"
   ]
  },
  {
   "cell_type": "code",
   "execution_count": 107,
   "metadata": {},
   "outputs": [
    {
     "data": {
      "text/plain": [
       "0.7264393105977265"
      ]
     },
     "execution_count": 107,
     "metadata": {},
     "output_type": "execute_result"
    }
   ],
   "source": [
    "((preds == y_test) & (preds == 1)).sum() / (y_test == 1).sum()"
   ]
  },
  {
   "cell_type": "code",
   "execution_count": 114,
   "metadata": {},
   "outputs": [
    {
     "data": {
      "text/html": [
       "<div>\n",
       "<style scoped>\n",
       "    .dataframe tbody tr th:only-of-type {\n",
       "        vertical-align: middle;\n",
       "    }\n",
       "\n",
       "    .dataframe tbody tr th {\n",
       "        vertical-align: top;\n",
       "    }\n",
       "\n",
       "    .dataframe thead th {\n",
       "        text-align: right;\n",
       "    }\n",
       "</style>\n",
       "<table border=\"1\" class=\"dataframe\">\n",
       "  <thead>\n",
       "    <tr style=\"text-align: right;\">\n",
       "      <th></th>\n",
       "      <th>0</th>\n",
       "      <th>1</th>\n",
       "    </tr>\n",
       "  </thead>\n",
       "  <tbody>\n",
       "    <tr>\n",
       "      <th>0</th>\n",
       "      <td>national_inv</td>\n",
       "      <td>0.447492</td>\n",
       "    </tr>\n",
       "    <tr>\n",
       "      <th>3</th>\n",
       "      <td>forecast_3_month</td>\n",
       "      <td>0.208494</td>\n",
       "    </tr>\n",
       "    <tr>\n",
       "      <th>4</th>\n",
       "      <td>sales_6_month</td>\n",
       "      <td>0.122057</td>\n",
       "    </tr>\n",
       "    <tr>\n",
       "      <th>2</th>\n",
       "      <td>in_transit_qty</td>\n",
       "      <td>0.064424</td>\n",
       "    </tr>\n",
       "    <tr>\n",
       "      <th>8</th>\n",
       "      <td>perf_6_month_avg</td>\n",
       "      <td>0.044507</td>\n",
       "    </tr>\n",
       "    <tr>\n",
       "      <th>1</th>\n",
       "      <td>lead_time</td>\n",
       "      <td>0.044198</td>\n",
       "    </tr>\n",
       "    <tr>\n",
       "      <th>9</th>\n",
       "      <td>local_bo_qty</td>\n",
       "      <td>0.042451</td>\n",
       "    </tr>\n",
       "    <tr>\n",
       "      <th>5</th>\n",
       "      <td>min_bank</td>\n",
       "      <td>0.015659</td>\n",
       "    </tr>\n",
       "    <tr>\n",
       "      <th>7</th>\n",
       "      <td>pieces_past_due</td>\n",
       "      <td>0.010557</td>\n",
       "    </tr>\n",
       "    <tr>\n",
       "      <th>6</th>\n",
       "      <td>potential_issue</td>\n",
       "      <td>0.000160</td>\n",
       "    </tr>\n",
       "  </tbody>\n",
       "</table>\n",
       "</div>"
      ],
      "text/plain": [
       "                  0         1\n",
       "0      national_inv  0.447492\n",
       "3  forecast_3_month  0.208494\n",
       "4     sales_6_month  0.122057\n",
       "2    in_transit_qty  0.064424\n",
       "8  perf_6_month_avg  0.044507\n",
       "1         lead_time  0.044198\n",
       "9      local_bo_qty  0.042451\n",
       "5          min_bank  0.015659\n",
       "7   pieces_past_due  0.010557\n",
       "6   potential_issue  0.000160"
      ]
     },
     "execution_count": 114,
     "metadata": {},
     "output_type": "execute_result"
    }
   ],
   "source": [
    "s1=pd.Series(clf.feature_importances_)\n",
    "s2=pd.Series(X_train.columns)\n",
    "importance=pd.DataFrame(data=pd.concat([s2, s1], axis=1))\n",
    "importance.sort_values(by=[1],ascending=False)"
   ]
  },
  {
   "cell_type": "code",
   "execution_count": 20,
   "metadata": {},
   "outputs": [
    {
     "name": "stdout",
     "output_type": "stream",
     "text": [
      "              precision    recall  f1-score   support\n",
      "\n",
      "           0       1.00      0.95      0.97    394015\n",
      "           1       0.09      0.73      0.16      2727\n",
      "\n",
      "   micro avg       0.95      0.95      0.95    396742\n",
      "   macro avg       0.54      0.84      0.57    396742\n",
      "weighted avg       0.99      0.95      0.97    396742\n",
      "\n"
     ]
    }
   ],
   "source": [
    "print(classification_report(y_test, preds))"
   ]
  },
  {
   "cell_type": "code",
   "execution_count": 21,
   "metadata": {},
   "outputs": [
    {
     "name": "stdout",
     "output_type": "stream",
     "text": [
      "[[374324  19691]\n",
      " [   746   1981]]\n"
     ]
    }
   ],
   "source": [
    "print(confusion_matrix(y_test, preds))"
   ]
  },
  {
   "cell_type": "code",
   "execution_count": 22,
   "metadata": {},
   "outputs": [
    {
     "data": {
      "text/plain": [
       "0.838232027924271"
      ]
     },
     "execution_count": 22,
     "metadata": {},
     "output_type": "execute_result"
    }
   ],
   "source": [
    "roc_auc_score(y_test, preds)"
   ]
  },
  {
   "cell_type": "markdown",
   "metadata": {},
   "source": [
    " - note: the $AUC$ equals the probability that a classifier will rank a randomly chosen positive instance higher than a randomly chosen negative one, i.e., the likelihood that a backorderd product is ranked higher than a non backordered one."
   ]
  },
  {
   "cell_type": "markdown",
   "metadata": {},
   "source": [
    "# EXP 2: Let's now try the same random forest with all features"
   ]
  },
  {
   "cell_type": "code",
   "execution_count": 10,
   "metadata": {},
   "outputs": [],
   "source": [
    "feats_all=train_full.drop(['went_on_backorder','bo_cat','sku'],axis=1)"
   ]
  },
  {
   "cell_type": "code",
   "execution_count": 11,
   "metadata": {},
   "outputs": [],
   "source": [
    "names = feats_all.columns\n",
    "normalized_feats = preprocessing.normalize(feats_all)\n",
    "feats_all = pd.DataFrame(normalized_feats, columns=names)"
   ]
  },
  {
   "cell_type": "code",
   "execution_count": 14,
   "metadata": {},
   "outputs": [],
   "source": [
    "target=train_full.went_on_backorder"
   ]
  },
  {
   "cell_type": "code",
   "execution_count": 15,
   "metadata": {},
   "outputs": [],
   "source": [
    "X_train, X_test, y_train, y_test = train_test_split(feats_all, target, random_state=0, test_size=0.25)"
   ]
  },
  {
   "cell_type": "code",
   "execution_count": 131,
   "metadata": {},
   "outputs": [
    {
     "data": {
      "text/plain": [
       "0.0069247411203764"
      ]
     },
     "execution_count": 131,
     "metadata": {},
     "output_type": "execute_result"
    }
   ],
   "source": [
    "y_train[y_train==1].count()/y_train.count()"
   ]
  },
  {
   "cell_type": "code",
   "execution_count": 16,
   "metadata": {},
   "outputs": [],
   "source": [
    "sm = SMOTE(ratio=0.3, random_state=10)"
   ]
  },
  {
   "cell_type": "code",
   "execution_count": 19,
   "metadata": {},
   "outputs": [],
   "source": [
    "X_train_res, y_train_res = sm.fit_sample(X_train, y_train)"
   ]
  },
  {
   "cell_type": "code",
   "execution_count": 20,
   "metadata": {},
   "outputs": [
    {
     "data": {
      "text/plain": [
       "0    1181983\n",
       "1     354594\n",
       "dtype: int64"
      ]
     },
     "execution_count": 20,
     "metadata": {},
     "output_type": "execute_result"
    }
   ],
   "source": [
    "pd.Series(y_train_res).value_counts()"
   ]
  },
  {
   "cell_type": "code",
   "execution_count": 15,
   "metadata": {},
   "outputs": [],
   "source": [
    "clf = RandomForestClassifier(n_estimators=100, max_depth=10,random_state=0,n_jobs=-1)"
   ]
  },
  {
   "cell_type": "code",
   "execution_count": 22,
   "metadata": {},
   "outputs": [
    {
     "name": "stdout",
     "output_type": "stream",
     "text": [
      "Wall time: 15min 54s\n"
     ]
    },
    {
     "data": {
      "text/plain": [
       "RandomForestClassifier(bootstrap=True, class_weight=None, criterion='gini',\n",
       "            max_depth=10, max_features='auto', max_leaf_nodes=None,\n",
       "            min_impurity_decrease=0.0, min_impurity_split=None,\n",
       "            min_samples_leaf=1, min_samples_split=2,\n",
       "            min_weight_fraction_leaf=0.0, n_estimators=100, n_jobs=None,\n",
       "            oob_score=False, random_state=0, verbose=0, warm_start=False)"
      ]
     },
     "execution_count": 22,
     "metadata": {},
     "output_type": "execute_result"
    }
   ],
   "source": [
    "%time clf.fit(X_train_res, y_train_res)"
   ]
  },
  {
   "cell_type": "code",
   "execution_count": 23,
   "metadata": {},
   "outputs": [],
   "source": [
    "preds = clf.predict(X_test)"
   ]
  },
  {
   "cell_type": "code",
   "execution_count": 24,
   "metadata": {},
   "outputs": [
    {
     "data": {
      "text/plain": [
       "0.7198386505317198"
      ]
     },
     "execution_count": 24,
     "metadata": {},
     "output_type": "execute_result"
    }
   ],
   "source": [
    "((preds == y_test) & (preds == 1)).sum() / (y_test == 1).sum()"
   ]
  },
  {
   "cell_type": "markdown",
   "metadata": {},
   "source": [
    " - the model with all features performs more poorly than the model with a few selected features"
   ]
  },
  {
   "cell_type": "code",
   "execution_count": 142,
   "metadata": {},
   "outputs": [
    {
     "data": {
      "text/html": [
       "<div>\n",
       "<style scoped>\n",
       "    .dataframe tbody tr th:only-of-type {\n",
       "        vertical-align: middle;\n",
       "    }\n",
       "\n",
       "    .dataframe tbody tr th {\n",
       "        vertical-align: top;\n",
       "    }\n",
       "\n",
       "    .dataframe thead th {\n",
       "        text-align: right;\n",
       "    }\n",
       "</style>\n",
       "<table border=\"1\" class=\"dataframe\">\n",
       "  <thead>\n",
       "    <tr style=\"text-align: right;\">\n",
       "      <th></th>\n",
       "      <th>0</th>\n",
       "      <th>1</th>\n",
       "    </tr>\n",
       "  </thead>\n",
       "  <tbody>\n",
       "    <tr>\n",
       "      <th>0</th>\n",
       "      <td>national_inv</td>\n",
       "      <td>3.541358</td>\n",
       "    </tr>\n",
       "    <tr>\n",
       "      <th>3</th>\n",
       "      <td>forecast_3_month</td>\n",
       "      <td>1.426737</td>\n",
       "    </tr>\n",
       "    <tr>\n",
       "      <th>4</th>\n",
       "      <td>forecast_6_month</td>\n",
       "      <td>1.077160</td>\n",
       "    </tr>\n",
       "    <tr>\n",
       "      <th>5</th>\n",
       "      <td>forecast_9_month</td>\n",
       "      <td>0.575419</td>\n",
       "    </tr>\n",
       "    <tr>\n",
       "      <th>2</th>\n",
       "      <td>in_transit_qty</td>\n",
       "      <td>0.499418</td>\n",
       "    </tr>\n",
       "    <tr>\n",
       "      <th>6</th>\n",
       "      <td>sales_1_month</td>\n",
       "      <td>0.497023</td>\n",
       "    </tr>\n",
       "    <tr>\n",
       "      <th>7</th>\n",
       "      <td>sales_3_month</td>\n",
       "      <td>0.410780</td>\n",
       "    </tr>\n",
       "    <tr>\n",
       "      <th>19</th>\n",
       "      <td>stop_auto_buy</td>\n",
       "      <td>0.300935</td>\n",
       "    </tr>\n",
       "    <tr>\n",
       "      <th>15</th>\n",
       "      <td>local_bo_qty</td>\n",
       "      <td>0.276438</td>\n",
       "    </tr>\n",
       "    <tr>\n",
       "      <th>8</th>\n",
       "      <td>sales_6_month</td>\n",
       "      <td>0.241315</td>\n",
       "    </tr>\n",
       "    <tr>\n",
       "      <th>9</th>\n",
       "      <td>sales_9_month</td>\n",
       "      <td>0.208585</td>\n",
       "    </tr>\n",
       "    <tr>\n",
       "      <th>1</th>\n",
       "      <td>lead_time</td>\n",
       "      <td>0.193395</td>\n",
       "    </tr>\n",
       "    <tr>\n",
       "      <th>13</th>\n",
       "      <td>perf_6_month_avg</td>\n",
       "      <td>0.191976</td>\n",
       "    </tr>\n",
       "    <tr>\n",
       "      <th>14</th>\n",
       "      <td>perf_12_month_avg</td>\n",
       "      <td>0.175273</td>\n",
       "    </tr>\n",
       "    <tr>\n",
       "      <th>10</th>\n",
       "      <td>min_bank</td>\n",
       "      <td>0.149749</td>\n",
       "    </tr>\n",
       "    <tr>\n",
       "      <th>12</th>\n",
       "      <td>pieces_past_due</td>\n",
       "      <td>0.086377</td>\n",
       "    </tr>\n",
       "    <tr>\n",
       "      <th>18</th>\n",
       "      <td>ppap_risk</td>\n",
       "      <td>0.077170</td>\n",
       "    </tr>\n",
       "    <tr>\n",
       "      <th>16</th>\n",
       "      <td>deck_risk</td>\n",
       "      <td>0.069862</td>\n",
       "    </tr>\n",
       "    <tr>\n",
       "      <th>11</th>\n",
       "      <td>potential_issue</td>\n",
       "      <td>0.000697</td>\n",
       "    </tr>\n",
       "    <tr>\n",
       "      <th>17</th>\n",
       "      <td>oe_constraint</td>\n",
       "      <td>0.000326</td>\n",
       "    </tr>\n",
       "    <tr>\n",
       "      <th>20</th>\n",
       "      <td>rev_stop</td>\n",
       "      <td>0.000006</td>\n",
       "    </tr>\n",
       "  </tbody>\n",
       "</table>\n",
       "</div>"
      ],
      "text/plain": [
       "                    0         1\n",
       "0        national_inv  3.541358\n",
       "3    forecast_3_month  1.426737\n",
       "4    forecast_6_month  1.077160\n",
       "5    forecast_9_month  0.575419\n",
       "2      in_transit_qty  0.499418\n",
       "6       sales_1_month  0.497023\n",
       "7       sales_3_month  0.410780\n",
       "19      stop_auto_buy  0.300935\n",
       "15       local_bo_qty  0.276438\n",
       "8       sales_6_month  0.241315\n",
       "9       sales_9_month  0.208585\n",
       "1           lead_time  0.193395\n",
       "13   perf_6_month_avg  0.191976\n",
       "14  perf_12_month_avg  0.175273\n",
       "10           min_bank  0.149749\n",
       "12    pieces_past_due  0.086377\n",
       "18          ppap_risk  0.077170\n",
       "16          deck_risk  0.069862\n",
       "11    potential_issue  0.000697\n",
       "17      oe_constraint  0.000326\n",
       "20           rev_stop  0.000006"
      ]
     },
     "execution_count": 142,
     "metadata": {},
     "output_type": "execute_result"
    }
   ],
   "source": [
    "s1=pd.Series(clf.feature_importances_)*10\n",
    "s2=pd.Series(X_train.columns)\n",
    "importance=pd.DataFrame(data=pd.concat([s2, s1], axis=1))\n",
    "importance.sort_values(by=[1],ascending=False)"
   ]
  },
  {
   "cell_type": "markdown",
   "metadata": {},
   "source": [
    " - `stop_auto_buy` is more relevant than it seemed in the beginning! We should include it.\n",
    " - the remaining 'yes' and 'no' variables are irrelevant.\n",
    " - `sale_1_month` is more relevant than the remaining sales variables.\n",
    " - `perf_6_month_avg` is more relevant than `perf_12_month_avg`.\n",
    " - `forecast_3_month` is the most relevant forecast variable indeed.\n",
    " - the question is: should we cut on correlated variables as we did before?"
   ]
  },
  {
   "cell_type": "code",
   "execution_count": 25,
   "metadata": {},
   "outputs": [
    {
     "name": "stdout",
     "output_type": "stream",
     "text": [
      "              precision    recall  f1-score   support\n",
      "\n",
      "           0       1.00      0.96      0.98    394015\n",
      "           1       0.11      0.72      0.19      2727\n",
      "\n",
      "   micro avg       0.96      0.96      0.96    396742\n",
      "   macro avg       0.55      0.84      0.58    396742\n",
      "weighted avg       0.99      0.96      0.97    396742\n",
      "\n"
     ]
    }
   ],
   "source": [
    "print(classification_report(y_test, preds))"
   ]
  },
  {
   "cell_type": "code",
   "execution_count": 26,
   "metadata": {},
   "outputs": [
    {
     "data": {
      "text/plain": [
       "0.8389416975105715"
      ]
     },
     "execution_count": 26,
     "metadata": {},
     "output_type": "execute_result"
    }
   ],
   "source": [
    "roc_auc_score(y_test, preds)"
   ]
  },
  {
   "cell_type": "code",
   "execution_count": 29,
   "metadata": {},
   "outputs": [
    {
     "data": {
      "text/plain": [
       "18494"
      ]
     },
     "execution_count": 29,
     "metadata": {},
     "output_type": "execute_result"
    }
   ],
   "source": [
    "(preds==1).sum()"
   ]
  },
  {
   "cell_type": "code",
   "execution_count": 30,
   "metadata": {},
   "outputs": [
    {
     "data": {
      "text/plain": [
       "2727"
      ]
     },
     "execution_count": 30,
     "metadata": {},
     "output_type": "execute_result"
    }
   ],
   "source": [
    "(y_test==1).sum()"
   ]
  },
  {
   "cell_type": "markdown",
   "metadata": {},
   "source": [
    "# EXP 3: Let's try SMOTE with the initial small set of features but with less 1's (SMOTE ratio at 10%)"
   ]
  },
  {
   "cell_type": "code",
   "execution_count": 12,
   "metadata": {},
   "outputs": [],
   "source": [
    "feats=train_full[['national_inv',\n",
    "                 'lead_time',\n",
    "                 'in_transit_qty',\n",
    "                 'forecast_3_month',\n",
    "                 'sales_6_month',\n",
    "                 'min_bank',\n",
    "                 'potential_issue',\n",
    "                 'pieces_past_due',\n",
    "                'perf_6_month_avg',\n",
    "                'local_bo_qty',\n",
    "                 'stop_auto_buy']]"
   ]
  },
  {
   "cell_type": "code",
   "execution_count": 13,
   "metadata": {},
   "outputs": [],
   "source": [
    "target=train_full.went_on_backorder"
   ]
  },
  {
   "cell_type": "code",
   "execution_count": 14,
   "metadata": {},
   "outputs": [],
   "source": [
    "X_train, X_test, y_train, y_test = train_test_split(feats, target, random_state=0, test_size=0.25)\n",
    "sm2 = SMOTE(ratio=0.1, random_state=10)\n",
    "X_train_res, y_train_res = sm2.fit_sample(X_train, y_train)"
   ]
  },
  {
   "cell_type": "code",
   "execution_count": 41,
   "metadata": {},
   "outputs": [
    {
     "data": {
      "text/plain": [
       "0    1181983\n",
       "1     118198\n",
       "dtype: int64"
      ]
     },
     "execution_count": 41,
     "metadata": {},
     "output_type": "execute_result"
    }
   ],
   "source": [
    "pd.Series(y_train_res).value_counts()"
   ]
  },
  {
   "cell_type": "code",
   "execution_count": 16,
   "metadata": {},
   "outputs": [
    {
     "name": "stdout",
     "output_type": "stream",
     "text": [
      "Wall time: 3min 1s\n"
     ]
    },
    {
     "data": {
      "text/plain": [
       "RandomForestClassifier(bootstrap=True, class_weight=None, criterion='gini',\n",
       "            max_depth=10, max_features='auto', max_leaf_nodes=None,\n",
       "            min_impurity_decrease=0.0, min_impurity_split=None,\n",
       "            min_samples_leaf=1, min_samples_split=2,\n",
       "            min_weight_fraction_leaf=0.0, n_estimators=100, n_jobs=-1,\n",
       "            oob_score=False, random_state=0, verbose=0, warm_start=False)"
      ]
     },
     "execution_count": 16,
     "metadata": {},
     "output_type": "execute_result"
    }
   ],
   "source": [
    "%time clf.fit(X_train_res, y_train_res)"
   ]
  },
  {
   "cell_type": "code",
   "execution_count": 17,
   "metadata": {},
   "outputs": [],
   "source": [
    "preds = clf.predict(X_test)"
   ]
  },
  {
   "cell_type": "code",
   "execution_count": 18,
   "metadata": {},
   "outputs": [
    {
     "name": "stdout",
     "output_type": "stream",
     "text": [
      "              precision    recall  f1-score   support\n",
      "\n",
      "           0       1.00      0.99      0.99    394015\n",
      "           1       0.21      0.37      0.27      2727\n",
      "\n",
      "   micro avg       0.99      0.99      0.99    396742\n",
      "   macro avg       0.60      0.68      0.63    396742\n",
      "weighted avg       0.99      0.99      0.99    396742\n",
      "\n"
     ]
    }
   ],
   "source": [
    "print(classification_report(y_test, preds))"
   ]
  },
  {
   "cell_type": "code",
   "execution_count": 19,
   "metadata": {},
   "outputs": [
    {
     "data": {
      "text/plain": [
       "3.7818361303060217"
      ]
     },
     "execution_count": 19,
     "metadata": {},
     "output_type": "execute_result"
    }
   ],
   "source": [
    "((preds != y_test) & (preds == 1)).sum() / ((preds == y_test) & (preds == 1)).sum()"
   ]
  },
  {
   "cell_type": "code",
   "execution_count": 20,
   "metadata": {},
   "outputs": [
    {
     "name": "stdout",
     "output_type": "stream",
     "text": [
      "[[390184   3831]\n",
      " [  1714   1013]]\n"
     ]
    }
   ],
   "source": [
    "print(confusion_matrix(y_test, preds))"
   ]
  },
  {
   "cell_type": "code",
   "execution_count": 22,
   "metadata": {},
   "outputs": [
    {
     "data": {
      "text/plain": [
       "0.6808737501458905"
      ]
     },
     "execution_count": 22,
     "metadata": {},
     "output_type": "execute_result"
    }
   ],
   "source": [
    "roc_auc_score(y_test, preds)"
   ]
  },
  {
   "cell_type": "markdown",
   "metadata": {},
   "source": [
    "# EXP 3.1: try out without SMOTE"
   ]
  },
  {
   "cell_type": "code",
   "execution_count": 21,
   "metadata": {},
   "outputs": [
    {
     "name": "stdout",
     "output_type": "stream",
     "text": [
      "Wall time: 2min 52s\n"
     ]
    },
    {
     "data": {
      "text/plain": [
       "RandomForestClassifier(bootstrap=True, class_weight=None, criterion='gini',\n",
       "            max_depth=10, max_features='auto', max_leaf_nodes=None,\n",
       "            min_impurity_decrease=0.0, min_impurity_split=None,\n",
       "            min_samples_leaf=1, min_samples_split=2,\n",
       "            min_weight_fraction_leaf=0.0, n_estimators=100, n_jobs=-1,\n",
       "            oob_score=False, random_state=0, verbose=0, warm_start=False)"
      ]
     },
     "execution_count": 21,
     "metadata": {},
     "output_type": "execute_result"
    }
   ],
   "source": [
    "%time clf.fit(X_train, y_train)"
   ]
  },
  {
   "cell_type": "code",
   "execution_count": 23,
   "metadata": {},
   "outputs": [],
   "source": [
    "preds_basic = clf.predict(X_test)"
   ]
  },
  {
   "cell_type": "code",
   "execution_count": 24,
   "metadata": {},
   "outputs": [
    {
     "name": "stdout",
     "output_type": "stream",
     "text": [
      "              precision    recall  f1-score   support\n",
      "\n",
      "           0       0.99      1.00      1.00    394015\n",
      "           1       0.88      0.01      0.01      2727\n",
      "\n",
      "   micro avg       0.99      0.99      0.99    396742\n",
      "   macro avg       0.94      0.50      0.50    396742\n",
      "weighted avg       0.99      0.99      0.99    396742\n",
      "\n"
     ]
    }
   ],
   "source": [
    "print(classification_report(y_test, preds_basic))"
   ]
  },
  {
   "cell_type": "code",
   "execution_count": 25,
   "metadata": {},
   "outputs": [
    {
     "data": {
      "text/plain": [
       "0.13333333333333333"
      ]
     },
     "execution_count": 25,
     "metadata": {},
     "output_type": "execute_result"
    }
   ],
   "source": [
    "((preds_basic != y_test) & (preds_basic == 1)).sum() / ((preds_basic == y_test) & (preds_basic == 1)).sum()"
   ]
  },
  {
   "cell_type": "code",
   "execution_count": 26,
   "metadata": {},
   "outputs": [
    {
     "data": {
      "text/plain": [
       "0.5027477370530602"
      ]
     },
     "execution_count": 26,
     "metadata": {},
     "output_type": "execute_result"
    }
   ],
   "source": [
    "roc_auc_score(y_test, preds_basic)"
   ]
  },
  {
   "cell_type": "code",
   "execution_count": 28,
   "metadata": {},
   "outputs": [
    {
     "name": "stdout",
     "output_type": "stream",
     "text": [
      "[[394013      2]\n",
      " [  2712     15]]\n"
     ]
    }
   ],
   "source": [
    "print(confusion_matrix(y_test, preds_basic))"
   ]
  },
  {
   "cell_type": "markdown",
   "metadata": {},
   "source": [
    "# EXP 3.2: Try SMOTE but with 3% ratio"
   ]
  },
  {
   "cell_type": "code",
   "execution_count": 52,
   "metadata": {},
   "outputs": [],
   "source": [
    "X_train, X_test, y_train, y_test = train_test_split(feats, target, random_state=0, test_size=0.25)\n",
    "sm2 = SMOTE(ratio=0.3, random_state=10)\n",
    "X_train_res, y_train_res = sm2.fit_sample(X_train, y_train)"
   ]
  },
  {
   "cell_type": "code",
   "execution_count": 53,
   "metadata": {},
   "outputs": [
    {
     "name": "stdout",
     "output_type": "stream",
     "text": [
      "Wall time: 3min 30s\n",
      "              precision    recall  f1-score   support\n",
      "\n",
      "           0       1.00      0.96      0.98    394015\n",
      "           1       0.10      0.65      0.17      2727\n",
      "\n",
      "   micro avg       0.96      0.96      0.96    396742\n",
      "   macro avg       0.55      0.80      0.58    396742\n",
      "weighted avg       0.99      0.96      0.97    396742\n",
      "\n"
     ]
    }
   ],
   "source": [
    "%time clf.fit(X_train_res, y_train_res)\n",
    "preds = clf.predict(X_test)\n",
    "print(classification_report(y_test, preds))"
   ]
  },
  {
   "cell_type": "code",
   "execution_count": 54,
   "metadata": {},
   "outputs": [
    {
     "data": {
      "text/plain": [
       "8.910532276330692"
      ]
     },
     "execution_count": 54,
     "metadata": {},
     "output_type": "execute_result"
    }
   ],
   "source": [
    "((preds != y_test) & (preds == 1)).sum() / ((preds == y_test) & (preds == 1)).sum()"
   ]
  },
  {
   "cell_type": "code",
   "execution_count": 55,
   "metadata": {},
   "outputs": [
    {
     "name": "stdout",
     "output_type": "stream",
     "text": [
      "[[378279  15736]\n",
      " [   961   1766]]\n"
     ]
    }
   ],
   "source": [
    "print(confusion_matrix(y_test, preds))"
   ]
  },
  {
   "cell_type": "code",
   "execution_count": 56,
   "metadata": {},
   "outputs": [
    {
     "data": {
      "text/plain": [
       "0.8038302636569679"
      ]
     },
     "execution_count": 56,
     "metadata": {},
     "output_type": "execute_result"
    }
   ],
   "source": [
    "roc_auc_score(y_test, preds)"
   ]
  },
  {
   "cell_type": "markdown",
   "metadata": {},
   "source": [
    "# EXP 4: Let's try SMOTE with the initial small set of features but with a lot of 1's (SMOTE ratio at 50%)"
   ]
  },
  {
   "cell_type": "code",
   "execution_count": 29,
   "metadata": {},
   "outputs": [],
   "source": [
    "X_train, X_test, y_train, y_test = train_test_split(feats, target, random_state=0, test_size=0.25)\n",
    "sm3 = SMOTE(ratio=0.5, random_state=10)\n",
    "X_train_res, y_train_res = sm3.fit_sample(X_train, y_train)"
   ]
  },
  {
   "cell_type": "code",
   "execution_count": 30,
   "metadata": {},
   "outputs": [
    {
     "name": "stdout",
     "output_type": "stream",
     "text": [
      "Wall time: 4min 30s\n"
     ]
    },
    {
     "data": {
      "text/plain": [
       "RandomForestClassifier(bootstrap=True, class_weight=None, criterion='gini',\n",
       "            max_depth=10, max_features='auto', max_leaf_nodes=None,\n",
       "            min_impurity_decrease=0.0, min_impurity_split=None,\n",
       "            min_samples_leaf=1, min_samples_split=2,\n",
       "            min_weight_fraction_leaf=0.0, n_estimators=100, n_jobs=-1,\n",
       "            oob_score=False, random_state=0, verbose=0, warm_start=False)"
      ]
     },
     "execution_count": 30,
     "metadata": {},
     "output_type": "execute_result"
    }
   ],
   "source": [
    "%time clf.fit(X_train_res, y_train_res)"
   ]
  },
  {
   "cell_type": "code",
   "execution_count": 31,
   "metadata": {},
   "outputs": [],
   "source": [
    "preds = clf.predict(X_test)"
   ]
  },
  {
   "cell_type": "code",
   "execution_count": 32,
   "metadata": {},
   "outputs": [
    {
     "name": "stdout",
     "output_type": "stream",
     "text": [
      "              precision    recall  f1-score   support\n",
      "\n",
      "           0       1.00      0.93      0.96    394015\n",
      "           1       0.07      0.76      0.13      2727\n",
      "\n",
      "   micro avg       0.93      0.93      0.93    396742\n",
      "   macro avg       0.53      0.84      0.55    396742\n",
      "weighted avg       0.99      0.93      0.96    396742\n",
      "\n"
     ]
    }
   ],
   "source": [
    "print(classification_report(y_test, preds))"
   ]
  },
  {
   "cell_type": "code",
   "execution_count": 33,
   "metadata": {},
   "outputs": [
    {
     "data": {
      "text/plain": [
       "0.8427939811438179"
      ]
     },
     "execution_count": 33,
     "metadata": {},
     "output_type": "execute_result"
    }
   ],
   "source": [
    "roc_auc_score(y_test, preds)"
   ]
  },
  {
   "cell_type": "code",
   "execution_count": 34,
   "metadata": {},
   "outputs": [
    {
     "data": {
      "text/plain": [
       "13.29091792132103"
      ]
     },
     "execution_count": 34,
     "metadata": {},
     "output_type": "execute_result"
    }
   ],
   "source": [
    "((preds != y_test) & (preds == 1)).sum() / ((preds == y_test) & (preds == 1)).sum()"
   ]
  },
  {
   "cell_type": "code",
   "execution_count": 36,
   "metadata": {},
   "outputs": [
    {
     "name": "stdout",
     "output_type": "stream",
     "text": [
      "[[366649  27366]\n",
      " [   668   2059]]\n"
     ]
    }
   ],
   "source": [
    "print(confusion_matrix(y_test, preds))"
   ]
  },
  {
   "cell_type": "markdown",
   "metadata": {},
   "source": [
    "# EXP 5: Let's try XGBoost with the initial small set of features (SMOTE ratio at 10%). Also, let's try with a subset of the data first."
   ]
  },
  {
   "cell_type": "code",
   "execution_count": 8,
   "metadata": {},
   "outputs": [],
   "source": [
    "train_sub=train_full.sample(frac=0.1,random_state=42)"
   ]
  },
  {
   "cell_type": "code",
   "execution_count": 9,
   "metadata": {},
   "outputs": [],
   "source": [
    "feats_sub=train_sub[['national_inv',\n",
    "                 'lead_time',\n",
    "                 'in_transit_qty',\n",
    "                 'forecast_3_month',\n",
    "                 'sales_6_month',\n",
    "                 'min_bank',\n",
    "                 'potential_issue',\n",
    "                 'pieces_past_due',\n",
    "                'perf_6_month_avg',\n",
    "                'local_bo_qty']]"
   ]
  },
  {
   "cell_type": "code",
   "execution_count": 10,
   "metadata": {},
   "outputs": [],
   "source": [
    "target_sub=train_sub.went_on_backorder"
   ]
  },
  {
   "cell_type": "code",
   "execution_count": null,
   "metadata": {},
   "outputs": [],
   "source": [
    "names = feats_sub.columns\n",
    "normalized_feats = preprocessing.normalize(feats_sub)\n",
    "feats_sub = pd.DataFrame(normalized_feats, columns=names)"
   ]
  },
  {
   "cell_type": "code",
   "execution_count": 11,
   "metadata": {},
   "outputs": [],
   "source": [
    "X_train, X_test, y_train, y_test = train_test_split(feats_sub, target_sub, random_state=0, test_size=0.25)\n",
    "sm2 = SMOTE(ratio=0.1, random_state=10)\n",
    "X_train_res, y_train_res = sm2.fit_sample(X_train, y_train)"
   ]
  },
  {
   "cell_type": "code",
   "execution_count": 38,
   "metadata": {},
   "outputs": [],
   "source": [
    "from sklearn.model_selection import RandomizedSearchCV, GridSearchCV\n",
    "from sklearn.model_selection import StratifiedKFold\n",
    "from sklearn.metrics import roc_auc_score\n",
    "from sklearn.metrics import f1_score\n",
    "from xgboost import XGBClassifier"
   ]
  },
  {
   "cell_type": "code",
   "execution_count": 13,
   "metadata": {},
   "outputs": [],
   "source": [
    "params = {\n",
    "        'min_child_weight': [1, 5, 10],\n",
    "        'gamma': [1, 2, 5],\n",
    "        'subsample': [0.6, 0.8, 1.0],\n",
    "        'colsample_bytree': [0.6, 0.8, 1.0],\n",
    "        'max_depth': [5, 8, 10]\n",
    "        }"
   ]
  },
  {
   "cell_type": "code",
   "execution_count": 14,
   "metadata": {},
   "outputs": [],
   "source": [
    "xgb = XGBClassifier(learning_rate=0.02, n_estimators=600, objective='binary:logistic',\n",
    "                    silent=True, nthread=1)"
   ]
  },
  {
   "cell_type": "code",
   "execution_count": 15,
   "metadata": {},
   "outputs": [],
   "source": [
    "folds = 5\n",
    "param_comb = 5\n",
    "\n",
    "skf = StratifiedKFold(n_splits=folds, shuffle = True, random_state = 1001)\n",
    "\n",
    "random_search = RandomizedSearchCV(xgb, param_distributions=params, n_iter=param_comb, scoring='f1', n_jobs=2, cv=skf.split(X_train_res, y_train_res), verbose=3, random_state=1001 )"
   ]
  },
  {
   "cell_type": "code",
   "execution_count": 16,
   "metadata": {},
   "outputs": [
    {
     "name": "stdout",
     "output_type": "stream",
     "text": [
      "Fitting 5 folds for each of 5 candidates, totalling 25 fits\n"
     ]
    },
    {
     "name": "stderr",
     "output_type": "stream",
     "text": [
      "[Parallel(n_jobs=2)]: Using backend LokyBackend with 2 concurrent workers.\n",
      "[Parallel(n_jobs=2)]: Done  25 out of  25 | elapsed: 39.3min finished\n"
     ]
    },
    {
     "name": "stdout",
     "output_type": "stream",
     "text": [
      "Wall time: 41min 58s\n"
     ]
    },
    {
     "data": {
      "text/plain": [
       "RandomizedSearchCV(cv=<generator object _BaseKFold.split at 0x000000810003D8B8>,\n",
       "          error_score='raise-deprecating',\n",
       "          estimator=XGBClassifier(base_score=0.5, booster='gbtree', colsample_bylevel=1,\n",
       "       colsample_bytree=1, gamma=0, learning_rate=0.02, max_delta_step=0,\n",
       "       max_depth=3, min_child_weight=1, missing=None, n_estimators=600,\n",
       "       n_jobs=1, nthread=1, objective='binary:logistic', random_state=0,\n",
       "       reg_alpha=0, reg_lambda=1, scale_pos_weight=1, seed=None,\n",
       "       silent=True, subsample=1),\n",
       "          fit_params=None, iid='warn', n_iter=5, n_jobs=2,\n",
       "          param_distributions={'min_child_weight': [1, 5, 10], 'gamma': [1, 2, 5], 'subsample': [0.6, 0.8, 1.0], 'colsample_bytree': [0.6, 0.8, 1.0], 'max_depth': [5, 8, 10]},\n",
       "          pre_dispatch='2*n_jobs', random_state=1001, refit=True,\n",
       "          return_train_score='warn', scoring='f1', verbose=3)"
      ]
     },
     "execution_count": 16,
     "metadata": {},
     "output_type": "execute_result"
    }
   ],
   "source": [
    "%time random_search.fit(X_train_res, y_train_res)"
   ]
  },
  {
   "cell_type": "code",
   "execution_count": 17,
   "metadata": {},
   "outputs": [
    {
     "data": {
      "text/plain": [
       "XGBClassifier(base_score=0.5, booster='gbtree', colsample_bylevel=1,\n",
       "       colsample_bytree=0.6, gamma=2, learning_rate=0.02, max_delta_step=0,\n",
       "       max_depth=10, min_child_weight=5, missing=None, n_estimators=600,\n",
       "       n_jobs=1, nthread=1, objective='binary:logistic', random_state=0,\n",
       "       reg_alpha=0, reg_lambda=1, scale_pos_weight=1, seed=None,\n",
       "       silent=True, subsample=0.6)"
      ]
     },
     "execution_count": 17,
     "metadata": {},
     "output_type": "execute_result"
    }
   ],
   "source": [
    "random_search.best_estimator_"
   ]
  },
  {
   "cell_type": "code",
   "execution_count": 39,
   "metadata": {},
   "outputs": [],
   "source": [
    "xgb = XGBClassifier(base_score=0.5, booster='gbtree', colsample_bylevel=1,\n",
    "       colsample_bytree=0.6, gamma=2, learning_rate=0.02, max_delta_step=0,\n",
    "       max_depth=10, min_child_weight=5, missing=None, n_estimators=600,\n",
    "       n_jobs=-1, nthread=-1, objective='binary:logistic', random_state=0,\n",
    "       reg_alpha=0, reg_lambda=1, scale_pos_weight=1, seed=None,\n",
    "       silent=True, subsample=0.6)"
   ]
  },
  {
   "cell_type": "code",
   "execution_count": 22,
   "metadata": {},
   "outputs": [],
   "source": [
    "X_train, X_test, y_train, y_test = train_test_split(feats, target, random_state=0, test_size=0.25)\n",
    "sm2 = SMOTE(ratio=0.3, random_state=10)\n",
    "X_train_res, y_train_res = sm2.fit_sample(X_train, y_train)"
   ]
  },
  {
   "cell_type": "code",
   "execution_count": 23,
   "metadata": {},
   "outputs": [
    {
     "name": "stdout",
     "output_type": "stream",
     "text": [
      "Wall time: 24min 58s\n"
     ]
    },
    {
     "data": {
      "text/plain": [
       "XGBClassifier(base_score=0.5, booster='gbtree', colsample_bylevel=1,\n",
       "       colsample_bytree=0.6, gamma=2, learning_rate=0.02, max_delta_step=0,\n",
       "       max_depth=10, min_child_weight=5, missing=None, n_estimators=600,\n",
       "       n_jobs=1, nthread=1, objective='binary:logistic', random_state=0,\n",
       "       reg_alpha=0, reg_lambda=1, scale_pos_weight=1, seed=None,\n",
       "       silent=True, subsample=0.6)"
      ]
     },
     "execution_count": 23,
     "metadata": {},
     "output_type": "execute_result"
    }
   ],
   "source": [
    "%time xgb.fit(X_train_res, y_train_res)"
   ]
  },
  {
   "cell_type": "code",
   "execution_count": 25,
   "metadata": {},
   "outputs": [],
   "source": [
    "X_test.columns = ['f0', 'f1', 'f2', 'f3', 'f4', 'f5', 'f6', 'f7', 'f8', 'f9']"
   ]
  },
  {
   "cell_type": "code",
   "execution_count": 26,
   "metadata": {},
   "outputs": [],
   "source": [
    "xgb_f1_preds = xgb.predict(X_test)"
   ]
  },
  {
   "cell_type": "code",
   "execution_count": 27,
   "metadata": {},
   "outputs": [
    {
     "name": "stdout",
     "output_type": "stream",
     "text": [
      "              precision    recall  f1-score   support\n",
      "\n",
      "           0       0.99      1.00      1.00    394015\n",
      "           1       0.31      0.23      0.26      2727\n",
      "\n",
      "   micro avg       0.99      0.99      0.99    396742\n",
      "   macro avg       0.65      0.61      0.63    396742\n",
      "weighted avg       0.99      0.99      0.99    396742\n",
      "\n"
     ]
    }
   ],
   "source": [
    "print(classification_report(y_test, xgb_f1_preds))"
   ]
  },
  {
   "cell_type": "markdown",
   "metadata": {},
   "source": [
    "# EXP 5.1: Let's try XGBoost now maximizing AUC (recall will produce the same result as above). Also, let's use a different sample of the data and SMOTE ratio of 20%"
   ]
  },
  {
   "cell_type": "code",
   "execution_count": 45,
   "metadata": {},
   "outputs": [],
   "source": [
    "train_sub=train_full.sample(frac=0.5,random_state=10)"
   ]
  },
  {
   "cell_type": "code",
   "execution_count": 46,
   "metadata": {},
   "outputs": [],
   "source": [
    "feats_sub=train_sub[['national_inv',\n",
    "                 'lead_time',\n",
    "                 'in_transit_qty',\n",
    "                 'forecast_3_month',\n",
    "                 'sales_6_month',\n",
    "                 'min_bank',\n",
    "                 'potential_issue',\n",
    "                 'pieces_past_due',\n",
    "                'perf_6_month_avg',\n",
    "                'local_bo_qty',\n",
    "                    'stop_auto_buy']]"
   ]
  },
  {
   "cell_type": "code",
   "execution_count": 47,
   "metadata": {},
   "outputs": [],
   "source": [
    "target_sub=train_sub.went_on_backorder"
   ]
  },
  {
   "cell_type": "code",
   "execution_count": 48,
   "metadata": {},
   "outputs": [],
   "source": [
    "X_train, X_test, y_train, y_test = train_test_split(feats_sub, target_sub, random_state=0, test_size=0.25)\n",
    "sm2 = SMOTE(ratio=0.2, random_state=10)\n",
    "X_train_res, y_train_res = sm2.fit_sample(X_train, y_train)"
   ]
  },
  {
   "cell_type": "code",
   "execution_count": 49,
   "metadata": {},
   "outputs": [],
   "source": [
    "params = {\n",
    "        'gamma': [1, 1.5, 2],\n",
    "        'subsample': [0.6, 0.8, 1.0],\n",
    "        'colsample_bytree': [0.6, 0.8, 1.0],\n",
    "    'learning_rate': [0.01, 0.02, 0.03, 0.04],\n",
    "        }"
   ]
  },
  {
   "cell_type": "code",
   "execution_count": 50,
   "metadata": {},
   "outputs": [],
   "source": [
    "xgb = XGBClassifier(n_estimators=600, max_depth=10, min_child_weight=5, objective='binary:logistic',\n",
    "                    silent=True, nthread=1)"
   ]
  },
  {
   "cell_type": "code",
   "execution_count": 52,
   "metadata": {},
   "outputs": [],
   "source": [
    "folds = 5\n",
    "param_comb = 4\n",
    "\n",
    "skf = StratifiedKFold(n_splits=folds, shuffle = True, random_state = 1001)\n",
    "\n",
    "random_search = RandomizedSearchCV(xgb, param_distributions=params, n_iter=param_comb,\n",
    "                                   scoring='roc_auc', n_jobs=2, cv=skf.split(X_train_res, y_train_res),\n",
    "                                   verbose=3, random_state=1001 )"
   ]
  },
  {
   "cell_type": "code",
   "execution_count": 53,
   "metadata": {},
   "outputs": [
    {
     "name": "stdout",
     "output_type": "stream",
     "text": [
      "Fitting 5 folds for each of 4 candidates, totalling 20 fits\n"
     ]
    },
    {
     "name": "stderr",
     "output_type": "stream",
     "text": [
      "[Parallel(n_jobs=2)]: Using backend LokyBackend with 2 concurrent workers.\n",
      "[Parallel(n_jobs=2)]: Done  20 out of  20 | elapsed: 212.9min finished\n"
     ]
    },
    {
     "name": "stdout",
     "output_type": "stream",
     "text": [
      "Wall time: 3h 44min 46s\n"
     ]
    },
    {
     "data": {
      "text/plain": [
       "RandomizedSearchCV(cv=<generator object _BaseKFold.split at 0x00000081310DFA98>,\n",
       "          error_score='raise-deprecating',\n",
       "          estimator=XGBClassifier(base_score=0.5, booster='gbtree', colsample_bylevel=1,\n",
       "       colsample_bytree=1, gamma=0, learning_rate=0.1, max_delta_step=0,\n",
       "       max_depth=10, min_child_weight=5, missing=None, n_estimators=600,\n",
       "       n_jobs=1, nthread=1, objective='binary:logistic', random_state=0,\n",
       "       reg_alpha=0, reg_lambda=1, scale_pos_weight=1, seed=None,\n",
       "       silent=True, subsample=1),\n",
       "          fit_params=None, iid='warn', n_iter=4, n_jobs=2,\n",
       "          param_distributions={'gamma': [1, 1.5, 2], 'subsample': [0.6, 0.8, 1.0], 'colsample_bytree': [0.6, 0.8, 1.0], 'learning_rate': [0.01, 0.02, 0.03, 0.04]},\n",
       "          pre_dispatch='2*n_jobs', random_state=1001, refit=True,\n",
       "          return_train_score='warn', scoring='roc_auc', verbose=3)"
      ]
     },
     "execution_count": 53,
     "metadata": {},
     "output_type": "execute_result"
    }
   ],
   "source": [
    "%time random_search.fit(X_train_res, y_train_res)"
   ]
  },
  {
   "cell_type": "code",
   "execution_count": 54,
   "metadata": {},
   "outputs": [
    {
     "data": {
      "text/plain": [
       "XGBClassifier(base_score=0.5, booster='gbtree', colsample_bylevel=1,\n",
       "       colsample_bytree=0.6, gamma=1, learning_rate=0.03, max_delta_step=0,\n",
       "       max_depth=10, min_child_weight=5, missing=None, n_estimators=600,\n",
       "       n_jobs=1, nthread=1, objective='binary:logistic', random_state=0,\n",
       "       reg_alpha=0, reg_lambda=1, scale_pos_weight=1, seed=None,\n",
       "       silent=True, subsample=0.8)"
      ]
     },
     "execution_count": 54,
     "metadata": {},
     "output_type": "execute_result"
    }
   ],
   "source": [
    "random_search.best_estimator_"
   ]
  },
  {
   "cell_type": "code",
   "execution_count": 55,
   "metadata": {},
   "outputs": [],
   "source": [
    "xgb_auc = random_search.best_estimator_"
   ]
  },
  {
   "cell_type": "code",
   "execution_count": 90,
   "metadata": {},
   "outputs": [],
   "source": [
    "feats=train_full[['national_inv',\n",
    "                 'lead_time',\n",
    "                 'in_transit_qty',\n",
    "                 'forecast_3_month',\n",
    "                 'sales_1_month',\n",
    "                 'min_bank',\n",
    "                 'potential_issue',\n",
    "                 'pieces_past_due',\n",
    "                'perf_6_month_avg',\n",
    "                'local_bo_qty',\n",
    "                 'stop_auto_buy']]"
   ]
  },
  {
   "cell_type": "code",
   "execution_count": 91,
   "metadata": {},
   "outputs": [],
   "source": [
    "X_train, X_test, y_train, y_test = train_test_split(feats, target, random_state=0, test_size=0.25)\n",
    "sm2 = SMOTE(ratio=0.2, random_state=10)\n",
    "X_train_res, y_train_res = sm2.fit_sample(X_train, y_train)"
   ]
  },
  {
   "cell_type": "code",
   "execution_count": 92,
   "metadata": {},
   "outputs": [],
   "source": [
    "X_train_res=pd.DataFrame(X_train_res, columns=['national_inv',\n",
    "                 'lead_time',\n",
    "                 'in_transit_qty',\n",
    "                 'forecast_3_month',\n",
    "                 'sales_1_month',\n",
    "                 'min_bank',\n",
    "                 'potential_issue',\n",
    "                 'pieces_past_due',\n",
    "                'perf_6_month_avg',\n",
    "                'local_bo_qty',\n",
    "                 'stop_auto_buy'])"
   ]
  },
  {
   "cell_type": "code",
   "execution_count": 93,
   "metadata": {},
   "outputs": [
    {
     "name": "stdout",
     "output_type": "stream",
     "text": [
      "Wall time: 26min 12s\n"
     ]
    },
    {
     "data": {
      "text/plain": [
       "XGBClassifier(base_score=0.5, booster='gbtree', colsample_bylevel=1,\n",
       "       colsample_bytree=0.6, gamma=1, learning_rate=0.03, max_delta_step=0,\n",
       "       max_depth=10, min_child_weight=5, missing=None, n_estimators=600,\n",
       "       n_jobs=1, nthread=1, objective='binary:logistic', random_state=0,\n",
       "       reg_alpha=0, reg_lambda=1, scale_pos_weight=1, seed=None,\n",
       "       silent=True, subsample=0.8)"
      ]
     },
     "execution_count": 93,
     "metadata": {},
     "output_type": "execute_result"
    }
   ],
   "source": [
    "%time xgb_auc.fit(X_train_res, y_train_res)"
   ]
  },
  {
   "cell_type": "code",
   "execution_count": 77,
   "metadata": {},
   "outputs": [],
   "source": [
    "X_test.columns = ['national_inv',\n",
    "                 'lead_time',\n",
    "                 'in_transit_qty',\n",
    "                 'forecast_3_month',\n",
    "                 'sales_6_month',\n",
    "                 'min_bank',\n",
    "                 'potential_issue',\n",
    "                 'pieces_past_due',\n",
    "                'perf_6_month_avg',\n",
    "                'local_bo_qty',\n",
    "                 'stop_auto_buy']"
   ]
  },
  {
   "cell_type": "code",
   "execution_count": 78,
   "metadata": {},
   "outputs": [],
   "source": [
    "xgb_auc_preds = xgb_auc.predict(X_test)"
   ]
  },
  {
   "cell_type": "code",
   "execution_count": 79,
   "metadata": {},
   "outputs": [
    {
     "name": "stdout",
     "output_type": "stream",
     "text": [
      "              precision    recall  f1-score   support\n",
      "\n",
      "           0       1.00      0.99      0.99    394015\n",
      "           1       0.27      0.30      0.28      2727\n",
      "\n",
      "   micro avg       0.99      0.99      0.99    396742\n",
      "   macro avg       0.63      0.65      0.64    396742\n",
      "weighted avg       0.99      0.99      0.99    396742\n",
      "\n"
     ]
    }
   ],
   "source": [
    "print(classification_report(y_test, xgb_auc_preds))"
   ]
  },
  {
   "cell_type": "markdown",
   "metadata": {},
   "source": [
    "# EXP 6: Back to random forest but SMOTE ratio of 100% (also, let's use the features we have found to be most relevant previously)"
   ]
  },
  {
   "cell_type": "code",
   "execution_count": 80,
   "metadata": {},
   "outputs": [],
   "source": [
    "feats=train_full[['national_inv',\n",
    "                 'lead_time',\n",
    "                 'in_transit_qty',\n",
    "                 'forecast_3_month',\n",
    "                 'sales_1_month',\n",
    "                 'min_bank',\n",
    "                 'potential_issue',\n",
    "                 'pieces_past_due',\n",
    "                'perf_6_month_avg',\n",
    "                'local_bo_qty',\n",
    "                 'stop_auto_buy']]"
   ]
  },
  {
   "cell_type": "code",
   "execution_count": 81,
   "metadata": {},
   "outputs": [],
   "source": [
    "target=train_full.went_on_backorder"
   ]
  },
  {
   "cell_type": "code",
   "execution_count": 82,
   "metadata": {},
   "outputs": [],
   "source": [
    "X_train, X_test, y_train, y_test = train_test_split(feats, target, random_state=42, test_size=0.25)\n",
    "sm4 = SMOTE(ratio=1.0, random_state=42)\n",
    "X_train_res, y_train_res = sm4.fit_sample(X_train, y_train)"
   ]
  },
  {
   "cell_type": "code",
   "execution_count": 84,
   "metadata": {},
   "outputs": [],
   "source": [
    "X_train_res=pd.DataFrame(X_train_res, columns=['national_inv',\n",
    "                 'lead_time',\n",
    "                 'in_transit_qty',\n",
    "                 'forecast_3_month',\n",
    "                 'sales_1_month',\n",
    "                 'min_bank',\n",
    "                 'potential_issue',\n",
    "                 'pieces_past_due',\n",
    "                'perf_6_month_avg',\n",
    "                'local_bo_qty',\n",
    "                 'stop_auto_buy'])"
   ]
  },
  {
   "cell_type": "code",
   "execution_count": 83,
   "metadata": {},
   "outputs": [],
   "source": [
    "clf = RandomForestClassifier(n_estimators=300, max_depth=10,random_state=0)"
   ]
  },
  {
   "cell_type": "code",
   "execution_count": 85,
   "metadata": {},
   "outputs": [
    {
     "name": "stdout",
     "output_type": "stream",
     "text": [
      "Wall time: 43min 25s\n"
     ]
    },
    {
     "data": {
      "text/plain": [
       "RandomForestClassifier(bootstrap=True, class_weight=None, criterion='gini',\n",
       "            max_depth=10, max_features='auto', max_leaf_nodes=None,\n",
       "            min_impurity_decrease=0.0, min_impurity_split=None,\n",
       "            min_samples_leaf=1, min_samples_split=2,\n",
       "            min_weight_fraction_leaf=0.0, n_estimators=300, n_jobs=None,\n",
       "            oob_score=False, random_state=0, verbose=0, warm_start=False)"
      ]
     },
     "execution_count": 85,
     "metadata": {},
     "output_type": "execute_result"
    }
   ],
   "source": [
    "%time clf.fit(X_train_res, y_train_res)"
   ]
  },
  {
   "cell_type": "code",
   "execution_count": 86,
   "metadata": {},
   "outputs": [],
   "source": [
    "preds_lots1 = clf.predict(X_test)"
   ]
  },
  {
   "cell_type": "code",
   "execution_count": 87,
   "metadata": {},
   "outputs": [
    {
     "name": "stdout",
     "output_type": "stream",
     "text": [
      "              precision    recall  f1-score   support\n",
      "\n",
      "           0       1.00      0.90      0.94    393941\n",
      "           1       0.05      0.83      0.10      2801\n",
      "\n",
      "   micro avg       0.89      0.89      0.89    396742\n",
      "   macro avg       0.53      0.86      0.52    396742\n",
      "weighted avg       0.99      0.89      0.94    396742\n",
      "\n"
     ]
    }
   ],
   "source": [
    "print(classification_report(y_test, preds_lots1))"
   ]
  },
  {
   "cell_type": "code",
   "execution_count": 88,
   "metadata": {},
   "outputs": [
    {
     "data": {
      "text/plain": [
       "0.8646912292997814"
      ]
     },
     "execution_count": 88,
     "metadata": {},
     "output_type": "execute_result"
    }
   ],
   "source": [
    "roc_auc_score(y_test, preds_lots1)"
   ]
  },
  {
   "cell_type": "code",
   "execution_count": 94,
   "metadata": {},
   "outputs": [],
   "source": [
    "preds_mix = clf.predict(X_test)*0.4 + xgb_auc.predict(X_test)*0.6"
   ]
  },
  {
   "cell_type": "code",
   "execution_count": 96,
   "metadata": {},
   "outputs": [
    {
     "name": "stdout",
     "output_type": "stream",
     "text": [
      "              precision    recall  f1-score   support\n",
      "\n",
      "           0       0.99      0.99      0.99    394015\n",
      "           1       0.25      0.25      0.25      2727\n",
      "\n",
      "   micro avg       0.99      0.99      0.99    396742\n",
      "   macro avg       0.62      0.62      0.62    396742\n",
      "weighted avg       0.99      0.99      0.99    396742\n",
      "\n"
     ]
    }
   ],
   "source": [
    "print(classification_report(y_test, preds_mix.round()))"
   ]
  },
  {
   "cell_type": "code",
   "execution_count": null,
   "metadata": {},
   "outputs": [],
   "source": []
  }
 ],
 "metadata": {
  "kernelspec": {
   "display_name": "Python 3",
   "language": "python",
   "name": "python3"
  },
  "language_info": {
   "codemirror_mode": {
    "name": "ipython",
    "version": 3
   },
   "file_extension": ".py",
   "mimetype": "text/x-python",
   "name": "python",
   "nbconvert_exporter": "python",
   "pygments_lexer": "ipython3",
   "version": "3.7.1"
  }
 },
 "nbformat": 4,
 "nbformat_minor": 2
}
